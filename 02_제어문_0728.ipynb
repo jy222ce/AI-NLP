{
 "cells": [
  {
   "cell_type": "markdown",
   "metadata": {},
   "source": [
    "## 연습문제3\n",
    "\n",
    "사용자로부터 정수를 입력받아, 입력된 정수 만큼 별 찍기(역순)"
   ]
  },
  {
   "cell_type": "code",
   "execution_count": 1,
   "metadata": {},
   "outputs": [
    {
     "name": "stdout",
     "output_type": "stream",
     "text": [
      "정수를 입력해주세요:5\n",
      "*****\n",
      "****\n",
      "***\n",
      "**\n",
      "*\n",
      "\n"
     ]
    }
   ],
   "source": [
    "a=int(input(\"정수를 입력해주세요:\"))\n",
    "\n",
    "for i in range(a+1):\n",
    "     print(\"*\"*(a-i))"
   ]
  },
  {
   "cell_type": "markdown",
   "metadata": {},
   "source": [
    "# for문 중첩"
   ]
  },
  {
   "cell_type": "code",
   "execution_count": 2,
   "metadata": {},
   "outputs": [
    {
     "name": "stdout",
     "output_type": "stream",
     "text": [
      "i:  0\n",
      "i*j:  0\n",
      "i*j:  0\n",
      "i*j:  0\n",
      "i*j:  0\n",
      "i*j:  0\n",
      "----------\n",
      "i:  1\n",
      "i*j:  0\n",
      "i*j:  1\n",
      "i*j:  2\n",
      "i*j:  3\n",
      "i*j:  4\n",
      "----------\n",
      "i:  2\n",
      "i*j:  0\n",
      "i*j:  2\n",
      "i*j:  4\n",
      "i*j:  6\n",
      "i*j:  8\n",
      "----------\n",
      "i:  3\n",
      "i*j:  0\n",
      "i*j:  3\n",
      "i*j:  6\n",
      "i*j:  9\n",
      "i*j:  12\n",
      "----------\n",
      "i:  4\n",
      "i*j:  0\n",
      "i*j:  4\n",
      "i*j:  8\n",
      "i*j:  12\n",
      "i*j:  16\n",
      "----------\n"
     ]
    }
   ],
   "source": [
    "for i in range(5):\n",
    "    print(\"i: \",i)\n",
    "    for j in range(5):\n",
    "        print(\"i*j: \",i*j)\n",
    "    print(\"-\"*10)"
   ]
  },
  {
   "cell_type": "code",
   "execution_count": 3,
   "metadata": {},
   "outputs": [
    {
     "name": "stdout",
     "output_type": "stream",
     "text": [
      "(0, 'a')\n",
      "(1, 'b')\n",
      "(2, 'c')\n",
      "(3, 'd')\n"
     ]
    }
   ],
   "source": [
    "l1=['a','b','c','d']\n",
    "for i in enumerate(l1):\n",
    "    print(i)"
   ]
  },
  {
   "cell_type": "code",
   "execution_count": 4,
   "metadata": {},
   "outputs": [
    {
     "name": "stdout",
     "output_type": "stream",
     "text": [
      "10\n",
      "20\n"
     ]
    }
   ],
   "source": [
    "a,b=(10,20)\n",
    "print(a)\n",
    "print(b)"
   ]
  },
  {
   "cell_type": "code",
   "execution_count": 5,
   "metadata": {},
   "outputs": [
    {
     "name": "stdout",
     "output_type": "stream",
     "text": [
      "0 a\n",
      "1 b\n",
      "2 c\n",
      "3 d\n"
     ]
    }
   ],
   "source": [
    "l1=['a','b','c','d']\n",
    "\n",
    "for idx, value in enumerate(l1): #언팩돼서 출력\n",
    "    print(idx, value)"
   ]
  },
  {
   "cell_type": "code",
   "execution_count": 6,
   "metadata": {},
   "outputs": [
    {
     "data": {
      "text/plain": [
       "['a', 'b', 0, 0]"
      ]
     },
     "execution_count": 6,
     "metadata": {},
     "output_type": "execute_result"
    }
   ],
   "source": [
    "for idx, value in enumerate(l1):\n",
    "    if idx>=2:\n",
    "        l1[idx]=0\n",
    "        \n",
    "l1"
   ]
  },
  {
   "cell_type": "markdown",
   "metadata": {},
   "source": [
    "## 연습문제1\n",
    "\n",
    "(1)  x = [3, 6, 9, 20, -7, 5] 의 값의 모든 요소에 10을 곱한뒤 출력하세요"
   ]
  },
  {
   "cell_type": "code",
   "execution_count": 7,
   "metadata": {},
   "outputs": [
    {
     "name": "stdout",
     "output_type": "stream",
     "text": [
      "30\n",
      "60\n",
      "90\n",
      "200\n",
      "-70\n",
      "50\n"
     ]
    }
   ],
   "source": [
    "x = [3, 6, 9, 20, -7, 5]\n",
    "\n",
    "for i in (x):\n",
    "    print(i*10)"
   ]
  },
  {
   "cell_type": "markdown",
   "metadata": {},
   "source": [
    "심화 : 출력과 리스트 x 의 값에도 모두 10을 곱해주세요"
   ]
  },
  {
   "cell_type": "code",
   "execution_count": 12,
   "metadata": {},
   "outputs": [
    {
     "data": {
      "text/plain": [
       "[30, 60, 90, 200, -70, 50]"
      ]
     },
     "execution_count": 12,
     "metadata": {},
     "output_type": "execute_result"
    }
   ],
   "source": [
    "x = [3, 6, 9, 20, -7, 5]\n",
    "\n",
    "for idx, value in enumerate(x):\n",
    "    x[idx]=value*10\n",
    "    \n",
    "x"
   ]
  },
  {
   "cell_type": "markdown",
   "metadata": {},
   "source": [
    "(2)  y = {“math”: 70, “science”: 80, “english”: 20} 의 값의 모든 요소에 10을 더한뒤 출력하세요\n"
   ]
  },
  {
   "cell_type": "code",
   "execution_count": 58,
   "metadata": {
    "scrolled": true
   },
   "outputs": [
    {
     "name": "stdout",
     "output_type": "stream",
     "text": [
      "math 80\n",
      "science 90\n",
      "english 30\n"
     ]
    }
   ],
   "source": [
    "y = {\n",
    "    \"math\": 70, \n",
    "    \"science\": 80, \n",
    "    \"english\": 20}\n",
    "    \n",
    "#for value in (y.values()):\n",
    "#    print(value+10)\n",
    "\n",
    "for i in y:\n",
    "    print(i, y[i]+10)"
   ]
  },
  {
   "cell_type": "markdown",
   "metadata": {},
   "source": [
    "심화 : 출력과 딕셔너리 y 의 값에도 모두 10을 더해주세요"
   ]
  },
  {
   "cell_type": "code",
   "execution_count": 60,
   "metadata": {},
   "outputs": [
    {
     "data": {
      "text/plain": [
       "{'math': 80, 'science': 90, 'english': 30}"
      ]
     },
     "execution_count": 60,
     "metadata": {},
     "output_type": "execute_result"
    }
   ],
   "source": [
    "y = {\n",
    "    \"math\": 70, \n",
    "    \"science\": 80, \n",
    "    \"english\": 20}\n",
    "\n",
    "for key in y:\n",
    "    y[key]=y[key]+10\n",
    "    \n",
    "y"
   ]
  },
  {
   "cell_type": "markdown",
   "metadata": {},
   "source": [
    "(3) 숫자를 입력받고 입력받은 정수의 구구단을 출력하세요\n"
   ]
  },
  {
   "cell_type": "code",
   "execution_count": 10,
   "metadata": {},
   "outputs": [
    {
     "name": "stdout",
     "output_type": "stream",
     "text": [
      "정수를 입력해주세요:5\n",
      "5 * 1 = 5\n",
      "5 * 2 = 10\n",
      "5 * 3 = 15\n",
      "5 * 4 = 20\n",
      "5 * 5 = 25\n",
      "5 * 6 = 30\n",
      "5 * 7 = 35\n",
      "5 * 8 = 40\n",
      "5 * 9 = 45\n"
     ]
    }
   ],
   "source": [
    "num=int(input(\"정수를 입력해주세요:\"))\n",
    "\n",
    "for i in range(1,10):\n",
    "    print(\"%d * %d = %d\" %(num,i,num*i))"
   ]
  },
  {
   "cell_type": "markdown",
   "metadata": {},
   "source": [
    "## 연습문제3\n",
    "(1) word = [“school”, “game”, “piano”, “science”, “hotel”, “mountian”] 중 글자수가 6글자 이상인 문자를 모아 새로운 리스트를 생성하세요"
   ]
  },
  {
   "cell_type": "code",
   "execution_count": 62,
   "metadata": {},
   "outputs": [
    {
     "data": {
      "text/plain": [
       "['school', 'science', 'mountian']"
      ]
     },
     "execution_count": 62,
     "metadata": {},
     "output_type": "execute_result"
    }
   ],
   "source": [
    "word = ['school', 'game', 'piano', 'science', 'hotel', 'mountian']\n",
    "\n",
    "nlist=[]\n",
    "\n",
    "for i in word:\n",
    "    if len(i)>=6:\n",
    "        nlist.append(i)\n",
    "        \n",
    "nlist"
   ]
  },
  {
   "cell_type": "markdown",
   "metadata": {},
   "source": [
    "(2) 구구단을 1단부터 9단까지 출력하세요"
   ]
  },
  {
   "cell_type": "code",
   "execution_count": 1,
   "metadata": {},
   "outputs": [
    {
     "name": "stdout",
     "output_type": "stream",
     "text": [
      "-----------\n",
      "1 * 1 = 1\n",
      "1 * 2 = 2\n",
      "1 * 3 = 3\n",
      "1 * 4 = 4\n",
      "1 * 5 = 5\n",
      "1 * 6 = 6\n",
      "1 * 7 = 7\n",
      "1 * 8 = 8\n",
      "1 * 9 = 9\n",
      "-----------\n",
      "2 * 1 = 2\n",
      "2 * 2 = 4\n",
      "2 * 3 = 6\n",
      "2 * 4 = 8\n",
      "2 * 5 = 10\n",
      "2 * 6 = 12\n",
      "2 * 7 = 14\n",
      "2 * 8 = 16\n",
      "2 * 9 = 18\n",
      "-----------\n",
      "3 * 1 = 3\n",
      "3 * 2 = 6\n",
      "3 * 3 = 9\n",
      "3 * 4 = 12\n",
      "3 * 5 = 15\n",
      "3 * 6 = 18\n",
      "3 * 7 = 21\n",
      "3 * 8 = 24\n",
      "3 * 9 = 27\n",
      "-----------\n",
      "4 * 1 = 4\n",
      "4 * 2 = 8\n",
      "4 * 3 = 12\n",
      "4 * 4 = 16\n",
      "4 * 5 = 20\n",
      "4 * 6 = 24\n",
      "4 * 7 = 28\n",
      "4 * 8 = 32\n",
      "4 * 9 = 36\n",
      "-----------\n",
      "5 * 1 = 5\n",
      "5 * 2 = 10\n",
      "5 * 3 = 15\n",
      "5 * 4 = 20\n",
      "5 * 5 = 25\n",
      "5 * 6 = 30\n",
      "5 * 7 = 35\n",
      "5 * 8 = 40\n",
      "5 * 9 = 45\n",
      "-----------\n",
      "6 * 1 = 6\n",
      "6 * 2 = 12\n",
      "6 * 3 = 18\n",
      "6 * 4 = 24\n",
      "6 * 5 = 30\n",
      "6 * 6 = 36\n",
      "6 * 7 = 42\n",
      "6 * 8 = 48\n",
      "6 * 9 = 54\n",
      "-----------\n",
      "7 * 1 = 7\n",
      "7 * 2 = 14\n",
      "7 * 3 = 21\n",
      "7 * 4 = 28\n",
      "7 * 5 = 35\n",
      "7 * 6 = 42\n",
      "7 * 7 = 49\n",
      "7 * 8 = 56\n",
      "7 * 9 = 63\n",
      "-----------\n",
      "8 * 1 = 8\n",
      "8 * 2 = 16\n",
      "8 * 3 = 24\n",
      "8 * 4 = 32\n",
      "8 * 5 = 40\n",
      "8 * 6 = 48\n",
      "8 * 7 = 56\n",
      "8 * 8 = 64\n",
      "8 * 9 = 72\n",
      "-----------\n",
      "9 * 1 = 9\n",
      "9 * 2 = 18\n",
      "9 * 3 = 27\n",
      "9 * 4 = 36\n",
      "9 * 5 = 45\n",
      "9 * 6 = 54\n",
      "9 * 7 = 63\n",
      "9 * 8 = 72\n",
      "9 * 9 = 81\n"
     ]
    }
   ],
   "source": [
    "for i in range(1,10):\n",
    "    print(\"-----------\")\n",
    "    for j in range(1,10):\n",
    "        print(\"%d * %d = %d\"%(i,j,i*j))"
   ]
  },
  {
   "cell_type": "markdown",
   "metadata": {},
   "source": [
    "## 연습문제 4\n",
    "1-100 까지 숫자중\n",
    "3과 5의 공배수일경우 “3과 5의 공배수”\n",
    "나머지 숫자중 3의배수일경우 “3의배수”\n",
    "나머지 숫자중 5의배수일경우 “5의배수”\n",
    "모두 해당되지 않을경우 그냥숫자\n",
    "를 출력하세요"
   ]
  },
  {
   "cell_type": "code",
   "execution_count": 67,
   "metadata": {},
   "outputs": [
    {
     "name": "stdout",
     "output_type": "stream",
     "text": [
      "1\n",
      "2\n",
      "3, 3의 배수\n",
      "4\n",
      "5, 5의 배수\n",
      "6, 3의 배수\n",
      "7\n",
      "8\n",
      "9, 3의 배수\n",
      "10, 5의 배수\n",
      "11\n",
      "12, 3의 배수\n",
      "13\n",
      "14\n",
      "15, 3과 5의 공배수\n",
      "16\n",
      "17\n",
      "18, 3의 배수\n",
      "19\n",
      "20, 5의 배수\n",
      "21, 3의 배수\n",
      "22\n",
      "23\n",
      "24, 3의 배수\n",
      "25, 5의 배수\n",
      "26\n",
      "27, 3의 배수\n",
      "28\n",
      "29\n",
      "30, 3과 5의 공배수\n",
      "31\n",
      "32\n",
      "33, 3의 배수\n",
      "34\n",
      "35, 5의 배수\n",
      "36, 3의 배수\n",
      "37\n",
      "38\n",
      "39, 3의 배수\n",
      "40, 5의 배수\n",
      "41\n",
      "42, 3의 배수\n",
      "43\n",
      "44\n",
      "45, 3과 5의 공배수\n",
      "46\n",
      "47\n",
      "48, 3의 배수\n",
      "49\n",
      "50, 5의 배수\n",
      "51, 3의 배수\n",
      "52\n",
      "53\n",
      "54, 3의 배수\n",
      "55, 5의 배수\n",
      "56\n",
      "57, 3의 배수\n",
      "58\n",
      "59\n",
      "60, 3과 5의 공배수\n",
      "61\n",
      "62\n",
      "63, 3의 배수\n",
      "64\n",
      "65, 5의 배수\n",
      "66, 3의 배수\n",
      "67\n",
      "68\n",
      "69, 3의 배수\n",
      "70, 5의 배수\n",
      "71\n",
      "72, 3의 배수\n",
      "73\n",
      "74\n",
      "75, 3과 5의 공배수\n",
      "76\n",
      "77\n",
      "78, 3의 배수\n",
      "79\n",
      "80, 5의 배수\n",
      "81, 3의 배수\n",
      "82\n",
      "83\n",
      "84, 3의 배수\n",
      "85, 5의 배수\n",
      "86\n",
      "87, 3의 배수\n",
      "88\n",
      "89\n",
      "90, 3과 5의 공배수\n",
      "91\n",
      "92\n",
      "93, 3의 배수\n",
      "94\n",
      "95, 5의 배수\n",
      "96, 3의 배수\n",
      "97\n",
      "98\n",
      "99, 3의 배수\n",
      "100, 5의 배수\n"
     ]
    }
   ],
   "source": [
    "for i in range(1,101):\n",
    "    if i%3==0 and i%5==0:\n",
    "        print(\"%d, 3과 5의 공배수\"%i)\n",
    "    else: #elif로 가능\n",
    "        if i%3==0:\n",
    "            print(\"%d, 3의 배수\"%i)\n",
    "        else:\n",
    "            if i%5==0:\n",
    "                print(\"%d, 5의 배수\"%i)\n",
    "            else:\n",
    "                print(i)\n",
    "        "
   ]
  },
  {
   "cell_type": "markdown",
   "metadata": {},
   "source": [
    "심화 : 1-입력한숫자까지의 숫자중"
   ]
  },
  {
   "cell_type": "code",
   "execution_count": 68,
   "metadata": {},
   "outputs": [
    {
     "name": "stdout",
     "output_type": "stream",
     "text": [
      "정수를 입력하세요:10\n",
      "1\n",
      "2\n",
      "3, 3의 배수\n",
      "4\n",
      "5, 5의 배수\n",
      "6, 3의 배수\n",
      "7\n",
      "8\n",
      "9, 3의 배수\n",
      "10, 5의 배수\n"
     ]
    }
   ],
   "source": [
    "num=int(input(\"정수를 입력하세요:\"))\n",
    "\n",
    "for i in range(1,num+1):\n",
    "    if i%3==0 and i%5==0:\n",
    "        print(\"%d, 3과 5의 공배수\"%i)\n",
    "    else:\n",
    "        if i%3==0:\n",
    "            print(\"%d, 3의 배수\"%i)\n",
    "        else:\n",
    "            if i%5==0:\n",
    "                print(\"%d, 5의 배수\"%i)\n",
    "            else:\n",
    "                print(i)"
   ]
  },
  {
   "cell_type": "markdown",
   "metadata": {},
   "source": [
    "# while문"
   ]
  },
  {
   "cell_type": "code",
   "execution_count": 2,
   "metadata": {},
   "outputs": [
    {
     "name": "stdout",
     "output_type": "stream",
     "text": [
      "i: 0\n",
      "i: 1\n",
      "i: 2\n",
      "i: 3\n",
      "i: 4\n"
     ]
    }
   ],
   "source": [
    "i=0\n",
    "while i<5:\n",
    "    print(\"i:\",i)\n",
    "    i +=1"
   ]
  },
  {
   "cell_type": "code",
   "execution_count": 4,
   "metadata": {},
   "outputs": [
    {
     "name": "stdout",
     "output_type": "stream",
     "text": [
      "s가 입력되면 멈춥니다.5\n",
      "프로세스 동작중\n",
      "s가 입력되면 멈춥니다.s\n"
     ]
    }
   ],
   "source": [
    "i=input(\"s가 입력되면 멈춥니다.\")\n",
    "while i.upper()!='S':\n",
    "    print(\"프로세스 동작중\")\n",
    "    i=input(\"s가 입력되면 멈춥니다.\")"
   ]
  },
  {
   "cell_type": "markdown",
   "metadata": {},
   "source": [
    "## 연습문제 5\n",
    "사용자로부터 숫자를 계속 입력받다가\n",
    "s or S 를 입력하면 합계출력"
   ]
  },
  {
   "cell_type": "code",
   "execution_count": 31,
   "metadata": {},
   "outputs": [
    {
     "name": "stdout",
     "output_type": "stream",
     "text": [
      "값을 입력해주세요:5\n",
      "값을 입력해주세요:6\n",
      "[5]\n",
      "값을 입력해주세요:s\n",
      "[5, 6]\n",
      "합은? 11\n"
     ]
    }
   ],
   "source": [
    "num=input(\"값을 입력해주세요:\")\n",
    "nlist=[]\n",
    "\n",
    "while num.upper()!='S':\n",
    "    nlist.append(int(num))\n",
    "    num=input(\"값을 입력해주세요:\")\n",
    "    print(nlist)\n",
    "    \n",
    "print(\"합은? %d\"%sum(nlist))\n",
    "    "
   ]
  },
  {
   "cell_type": "code",
   "execution_count": 32,
   "metadata": {},
   "outputs": [
    {
     "name": "stdout",
     "output_type": "stream",
     "text": [
      "값을 입력해주세요:5\n",
      "값을 입력해주세요:6\n",
      "값을 입력해주세요:s\n"
     ]
    },
    {
     "data": {
      "text/plain": [
       "11"
      ]
     },
     "execution_count": 32,
     "metadata": {},
     "output_type": "execute_result"
    }
   ],
   "source": [
    "num=input(\"값을 입력해주세요:\")\n",
    "result=0\n",
    "\n",
    "while num.lower()!='s':\n",
    "    result+=int(num)\n",
    "    num=input(\"값을 입력해주세요:\")\n",
    "result"
   ]
  },
  {
   "cell_type": "markdown",
   "metadata": {},
   "source": [
    "## 연습문제 6\n",
    "가위(1), 바위(2), 보(3) 을 입력해주세요! : 3\n",
    "유저 : 보, 컴퓨터 : 보\n",
    "가위(1), 바위(2), 보(3) 을 입력해주세요! : 2\n",
    "유저 : 바위, 컴퓨터 : 보\n",
    "가위(1), 바위(2), 보(3) 을 입력해주세요! : 1\n",
    "유저 : 가위, 컴퓨터 : 보\n",
    "가위(1), 바위(2), 보(3) 을 입력해주세요! : 4\n",
    "\n",
    "게임종료 (전체:3 ,승리:1)\n",
    "\n",
    "1~3 을 입력하면 게임진행 이외의 숫자를 입력하면 게임종료\n",
    "심화 : 비긴숫자도 출력하세요 (전체:3, 승리:1, 비김:1)\n",
    "\n",
    "\n"
   ]
  },
  {
   "cell_type": "code",
   "execution_count": 16,
   "metadata": {},
   "outputs": [
    {
     "name": "stdout",
     "output_type": "stream",
     "text": [
      "가위(1) 바위(2) 보(3) 선택해주세요:1\n",
      "컴퓨터 승\n",
      "플레이어:가위, 컴퓨터:바위\n",
      "전체:1, 승리:0, 비김:0\n",
      "가위(1) 바위(2) 보(3) 선택해주세요:2\n",
      "비김\n",
      "플레이어:바위, 컴퓨터:바위\n",
      "전체:2, 승리:0, 비김:1\n",
      "가위(1) 바위(2) 보(3) 선택해주세요:5\n"
     ]
    }
   ],
   "source": [
    "import random\n",
    "\n",
    "choice=int(input(\"가위(1) 바위(2) 보(3) 선택해주세요:\"))\n",
    "computer=random.randint(1,3)\n",
    "\n",
    "game={1:\"가위\",2:\"바위\",3:\"보\"}\n",
    "\n",
    "play=0\n",
    "win=0\n",
    "same=0\n",
    "\n",
    "while choice in [1,2,3]:\n",
    "    if choice==1:\n",
    "        if computer==1:\n",
    "            print(\"비김\")\n",
    "            play+=1\n",
    "            same+=1\n",
    "        elif computer==2:\n",
    "            print(\"컴퓨터 승\")\n",
    "            play+=1\n",
    "        elif computer==3:\n",
    "            print(\"플레이어 승\")\n",
    "            play+=1\n",
    "            win+=1\n",
    "        print(\"플레이어:%s, 컴퓨터:%s\"%(game[choice],game[computer]))\n",
    "    elif choice==2:\n",
    "        if computer==1:\n",
    "            print(\"플레이어 승\")\n",
    "            play+=1\n",
    "            win+=1\n",
    "        elif computer==2:\n",
    "            print(\"비김\")\n",
    "            play+=1\n",
    "            same+=1\n",
    "        elif computer==3:\n",
    "            print(\"컴퓨터 승\")\n",
    "            play+=1\n",
    "        print(\"플레이어:%s, 컴퓨터:%s\"%(game[choice],game[computer]))\n",
    "    elif choice==3:\n",
    "        if computer==1:\n",
    "            print(\"플레이어 승\")\n",
    "            play+=1\n",
    "            win+=1\n",
    "        elif computer==3:\n",
    "            print(\"비김\")\n",
    "            play+=1\n",
    "            same+=1\n",
    "        elif computer==2:\n",
    "            print(\"플레이어 승\")\n",
    "            play+=1\n",
    "            win+=1\n",
    "        print(\"플레이어:%s, 컴퓨터:%s\"%(game[choice],game[computer]))\n",
    "\n",
    "    print(\"전체:%d, 승리:%d, 비김:%d\"%(play, win, same))\n",
    "    choice=int(input(\"가위(1) 바위(2) 보(3) 선택해주세요:\"))\n",
    "    \n",
    "\n",
    "    \n",
    "        \n",
    "\n",
    "    "
   ]
  },
  {
   "cell_type": "code",
   "execution_count": 18,
   "metadata": {},
   "outputs": [
    {
     "name": "stdout",
     "output_type": "stream",
     "text": [
      "가위(1) 바위(2) 보(3) 선택해주세요:1\n",
      "플레이어:가위, 컴퓨터:바위\n",
      "전체:1, 승리:0, 비김:0\n",
      "가위(1) 바위(2) 보(3) 선택해주세요:2\n",
      "플레이어:바위, 컴퓨터:바위\n",
      "전체:2, 승리:0, 비김:1\n",
      "가위(1) 바위(2) 보(3) 선택해주세요:5\n"
     ]
    }
   ],
   "source": [
    "choice=int(input(\"가위(1) 바위(2) 보(3) 선택해주세요:\"))\n",
    "computer=random.randint(1,3)\n",
    "\n",
    "game={1:\"가위\",2:\"바위\",3:\"보\"}\n",
    "\n",
    "play=0\n",
    "win=0\n",
    "same=0\n",
    "\n",
    "while choice in [1,2,3]:\n",
    "    if (choice-computer==1) or (choice-computer==-2):\n",
    "        play+=1\n",
    "        win+=1   \n",
    "        print(\"플레이어:%s, 컴퓨터:%s\"%(game[choice],game[computer]))\n",
    "    elif choice==computer:\n",
    "        play+=1\n",
    "        same+=1\n",
    "        print(\"플레이어:%s, 컴퓨터:%s\"%(game[choice],game[computer]))\n",
    "    else:\n",
    "        play+=1\n",
    "        print(\"플레이어:%s, 컴퓨터:%s\"%(game[choice],game[computer]))\n",
    "    \n",
    "    print(\"전체:%d, 승리:%d, 비김:%d\"%(play, win, same))\n",
    "    choice=int(input(\"가위(1) 바위(2) 보(3) 선택해주세요:\"))"
   ]
  },
  {
   "cell_type": "markdown",
   "metadata": {},
   "source": [
    "# break, continue"
   ]
  },
  {
   "cell_type": "code",
   "execution_count": 19,
   "metadata": {},
   "outputs": [
    {
     "name": "stdout",
     "output_type": "stream",
     "text": [
      "0\n",
      "1\n",
      "2\n"
     ]
    }
   ],
   "source": [
    "for i in range(5):\n",
    "    if i==3:\n",
    "        break\n",
    "    print(i)\n",
    "        "
   ]
  },
  {
   "cell_type": "code",
   "execution_count": 20,
   "metadata": {},
   "outputs": [
    {
     "name": "stdout",
     "output_type": "stream",
     "text": [
      "0\n",
      "1\n",
      "2\n",
      "4\n"
     ]
    }
   ],
   "source": [
    "for i in range(5):\n",
    "    if i==3:\n",
    "        continue\n",
    "    print(i)"
   ]
  },
  {
   "cell_type": "code",
   "execution_count": 21,
   "metadata": {},
   "outputs": [
    {
     "name": "stdout",
     "output_type": "stream",
     "text": [
      "0\n",
      "1\n",
      "2\n",
      "3\n",
      "4\n",
      "5\n",
      "9\n"
     ]
    }
   ],
   "source": [
    "for i in range(10):\n",
    "    if 5<i<=8:\n",
    "        continue\n",
    "    print(i)"
   ]
  },
  {
   "cell_type": "code",
   "execution_count": 22,
   "metadata": {},
   "outputs": [
    {
     "name": "stdout",
     "output_type": "stream",
     "text": [
      "Hello\n",
      "s입력시 멈춥니다.1\n",
      "Hello\n",
      "s입력시 멈춥니다.s\n"
     ]
    }
   ],
   "source": [
    "while True:\n",
    "    print(\"Hello\")\n",
    "    num=input(\"s입력시 멈춥니다.\")\n",
    "    if num.lower()=='s':\n",
    "        break"
   ]
  },
  {
   "cell_type": "markdown",
   "metadata": {},
   "source": [
    "## 연습문제 11\n",
    "(1) while 문과 break 문을 사용하여 사용자가 입력한 숫자만큼 반복하여 ‘hi’ 출력하기\n"
   ]
  },
  {
   "cell_type": "code",
   "execution_count": 23,
   "metadata": {},
   "outputs": [
    {
     "name": "stdout",
     "output_type": "stream",
     "text": [
      "정수를 입력하세요:5\n",
      "hi\n",
      "hi\n",
      "hi\n",
      "hi\n",
      "hi\n"
     ]
    }
   ],
   "source": [
    "num=int(input(\"정수를 입력하세요:\"))\n",
    "count=0\n",
    "\n",
    "while True:\n",
    "    count+=1\n",
    "    print(\"hi\")\n",
    "    if count==num:\n",
    "        break"
   ]
  },
  {
   "cell_type": "markdown",
   "metadata": {},
   "source": [
    "(2) for 문과 continue 문을 사용하여 사용자가 입력한 숫자까지의 짝수를 출력하기"
   ]
  },
  {
   "cell_type": "code",
   "execution_count": 27,
   "metadata": {},
   "outputs": [
    {
     "name": "stdout",
     "output_type": "stream",
     "text": [
      "정수를 입력하세요:6\n",
      "2\n",
      "4\n",
      "6\n"
     ]
    }
   ],
   "source": [
    "num=int(input(\"정수를 입력하세요:\"))\n",
    "\n",
    "for i in range(1,num+1):\n",
    "    if i%2!=0:\n",
    "        continue\n",
    "    else:\n",
    "        print(i)"
   ]
  },
  {
   "cell_type": "markdown",
   "metadata": {},
   "source": [
    "# 리스트 응용"
   ]
  },
  {
   "cell_type": "markdown",
   "metadata": {},
   "source": [
    "## 연습문제 7\n",
    "randint함수를 사용하여 정수(1~1000)로 이루어진 길이가 100개인 리스트 a를 만들고 \n",
    "가장 큰 수를 구하는 코드를 작성하시오.\n",
    "\n",
    "예) a=[32, 45, 2, 5, 76] 일때, 출력결과는 76이 나와야 함."
   ]
  },
  {
   "cell_type": "code",
   "execution_count": 45,
   "metadata": {},
   "outputs": [
    {
     "name": "stdout",
     "output_type": "stream",
     "text": [
      "985\n",
      "[866, 69, 776, 173, 971, 249, 619, 546, 28, 422, 309, 694, 62, 963, 235, 650, 697, 119, 113, 288, 305, 905, 509, 215, 985, 605, 576, 324, 394, 36, 985, 629, 943, 422, 573, 710, 407, 878, 946, 916, 603, 745, 349, 52, 866, 368, 659, 554, 720, 528, 200, 713, 521, 448, 95, 718, 378, 673, 383, 616, 540, 942, 548, 791, 480, 451, 326, 750, 919, 198, 623, 967, 622, 331, 615, 807, 171, 53, 862, 592, 74, 833, 832, 482, 922, 99, 190, 43, 539, 767, 446, 30, 864, 108, 91, 636, 55, 609, 784, 315]\n"
     ]
    }
   ],
   "source": [
    "nlist=[]\n",
    "\n",
    "for i in range(100):\n",
    "    nlist.append(random.randint(1,1000))\n",
    "\n",
    "max=nlist[0]\n",
    "\n",
    "for j in range(1,100):\n",
    "    if max<nlist[j]:\n",
    "        max=nlist[j]\n",
    "print(max)\n",
    "        \n",
    "print(nlist)"
   ]
  },
  {
   "cell_type": "markdown",
   "metadata": {},
   "source": [
    "## 연습문제 8\n",
    "randint함수를 사용하여 정수(1~1000)로 이루어진 길이가 100개인 리스트 a를 만들고 \n",
    "리스트의 모든 요소의 합계를 구하는 코드를 작성하시오.\n",
    "\n",
    "예) a=[32, 45, 2, 5, 76] 일때, 출력결과는 160이 나와야 함."
   ]
  },
  {
   "cell_type": "code",
   "execution_count": 37,
   "metadata": {},
   "outputs": [
    {
     "name": "stdout",
     "output_type": "stream",
     "text": [
      "[895, 341, 555, 568, 29, 928, 21, 91, 287, 869, 601, 970, 407, 586, 829, 773, 989, 722, 664, 678, 695, 915, 413, 391, 622, 218, 398, 273, 442, 9, 337, 440, 979, 800, 421, 819, 962, 537, 510, 67, 876, 639, 378, 585, 264, 204, 399, 812, 988, 409, 344, 900, 554, 489, 813, 236, 809, 293, 558, 831, 247, 440, 104, 398, 16, 304, 141, 834, 138, 870, 326, 939, 912, 848, 643, 757, 550, 281, 544, 224, 82, 799, 349, 319, 634, 679, 839, 920, 94, 367, 205, 75, 657, 846, 797, 493, 836, 737, 733, 609]\n"
     ]
    },
    {
     "data": {
      "text/plain": [
       "54018"
      ]
     },
     "execution_count": 37,
     "metadata": {},
     "output_type": "execute_result"
    }
   ],
   "source": [
    "nlist=[]\n",
    "\n",
    "for i in range(100):\n",
    "    nlist.append(random.randint(1,1000))\n",
    "print(nlist)\n",
    "sum(nlist)"
   ]
  },
  {
   "cell_type": "markdown",
   "metadata": {},
   "source": [
    "# 리스트 컴프리핸션"
   ]
  },
  {
   "cell_type": "code",
   "execution_count": 46,
   "metadata": {},
   "outputs": [
    {
     "data": {
      "text/plain": [
       "[1, 2, 3, 4]"
      ]
     },
     "execution_count": 46,
     "metadata": {},
     "output_type": "execute_result"
    }
   ],
   "source": [
    "list(range(1,5))"
   ]
  },
  {
   "cell_type": "code",
   "execution_count": 47,
   "metadata": {},
   "outputs": [
    {
     "data": {
      "text/plain": [
       "[10, 20, 30, 40]"
      ]
     },
     "execution_count": 47,
     "metadata": {},
     "output_type": "execute_result"
    }
   ],
   "source": [
    "list(range(10,50,10))"
   ]
  },
  {
   "cell_type": "code",
   "execution_count": 49,
   "metadata": {},
   "outputs": [
    {
     "data": {
      "text/plain": [
       "[10, 20, 30, 40]"
      ]
     },
     "execution_count": 49,
     "metadata": {},
     "output_type": "execute_result"
    }
   ],
   "source": [
    "n_list=[]\n",
    "for i in range(1,5):\n",
    "    n_list.append(i*10)\n",
    "n_list"
   ]
  },
  {
   "cell_type": "code",
   "execution_count": 52,
   "metadata": {},
   "outputs": [
    {
     "data": {
      "text/plain": [
       "[17.5, 27.5, 37.5, 47.5]"
      ]
     },
     "execution_count": 52,
     "metadata": {},
     "output_type": "execute_result"
    }
   ],
   "source": [
    "#리스트컴프리핸션\n",
    "n_list=[i*10+7.5 for i in range(1,5)]\n",
    "n_list"
   ]
  },
  {
   "cell_type": "code",
   "execution_count": 55,
   "metadata": {},
   "outputs": [
    {
     "name": "stdout",
     "output_type": "stream",
     "text": [
      "[3, 6, 9, 12, 15, 18, 21, 24, 27, 30, 33, 36, 39, 42, 45, 48, 51, 54, 57, 60, 63, 66, 69, 72, 75, 78, 81, 84, 87, 90, 93, 96, 99]\n"
     ]
    }
   ],
   "source": [
    "#1부터 100까지의 숫자중에서, 3의 배수만 모아서 새로운 리스트를 만드시오\n",
    "\n",
    "n_list=[i for i in range(1,101) if i%3==0]\n",
    "print(n_list)"
   ]
  },
  {
   "cell_type": "code",
   "execution_count": 56,
   "metadata": {},
   "outputs": [
    {
     "name": "stdout",
     "output_type": "stream",
     "text": [
      "[1, 2, 3, 4, 5, 6, 7, 8, 9, 2, 4, 6, 8, 10, 12, 14, 16, 18, 3, 6, 9, 12, 15, 18, 21, 24, 27, 4, 8, 12, 16, 20, 24, 28, 32, 36, 5, 10, 15, 20, 25, 30, 35, 40, 45, 6, 12, 18, 24, 30, 36, 42, 48, 54, 7, 14, 21, 28, 35, 42, 49, 56, 63, 8, 16, 24, 32, 40, 48, 56, 64, 72, 9, 18, 27, 36, 45, 54, 63, 72, 81]\n"
     ]
    }
   ],
   "source": [
    "n_list=[i*j for i in range(1,10) for j in range(1,10)]\n",
    "print(n_list)"
   ]
  },
  {
   "cell_type": "code",
   "execution_count": 62,
   "metadata": {},
   "outputs": [
    {
     "data": {
      "text/plain": [
       "{'city': 'Seoul', 'name': '양지우', 'height': 166}"
      ]
     },
     "execution_count": 62,
     "metadata": {},
     "output_type": "execute_result"
    }
   ],
   "source": [
    "keys=['city','name','height']\n",
    "value=['Seoul','양지우',166]\n",
    "\n",
    "n_dict={keys[i]:value[i] for i in range(len(keys))}\n",
    "n_dict"
   ]
  },
  {
   "cell_type": "markdown",
   "metadata": {},
   "source": [
    "# Zip"
   ]
  },
  {
   "cell_type": "code",
   "execution_count": 58,
   "metadata": {},
   "outputs": [
    {
     "name": "stdout",
     "output_type": "stream",
     "text": [
      "city Seoul\n",
      "name 양지우\n",
      "height 166\n"
     ]
    }
   ],
   "source": [
    "for i in range(len(keys)):\n",
    "    k=keys[i]\n",
    "    v=value[i]\n",
    "    print(k,v)"
   ]
  },
  {
   "cell_type": "code",
   "execution_count": 60,
   "metadata": {},
   "outputs": [
    {
     "data": {
      "text/plain": [
       "[('city', 'Seoul'), ('name', '양지우'), ('height', 166)]"
      ]
     },
     "execution_count": 60,
     "metadata": {},
     "output_type": "execute_result"
    }
   ],
   "source": [
    "list(zip(keys, value)) #튜플형태 리스트"
   ]
  },
  {
   "cell_type": "code",
   "execution_count": 64,
   "metadata": {},
   "outputs": [
    {
     "data": {
      "text/plain": [
       "{'city': 'Seoul', 'name': '양지우', 'height': 166}"
      ]
     },
     "execution_count": 64,
     "metadata": {},
     "output_type": "execute_result"
    }
   ],
   "source": [
    "dict(zip(keys,value))"
   ]
  },
  {
   "cell_type": "code",
   "execution_count": 63,
   "metadata": {},
   "outputs": [
    {
     "name": "stdout",
     "output_type": "stream",
     "text": [
      "city Seoul\n",
      "name 양지우\n",
      "height 166\n"
     ]
    }
   ],
   "source": [
    "for k, v in zip(keys, value):\n",
    "    print(k,v)"
   ]
  },
  {
   "cell_type": "markdown",
   "metadata": {},
   "source": [
    "## 연습문제 9\n",
    "(1) word = [“school”, “game”, “piano”, “science”, “hotel”, “mountn”] 중 글자수가 6글자 이상인 문자를 모아 새로운 리스트를 생성하세요\n",
    "(리스트 컴프리핸션을 사용해주세요)"
   ]
  },
  {
   "cell_type": "code",
   "execution_count": 72,
   "metadata": {},
   "outputs": [
    {
     "data": {
      "text/plain": [
       "['school', 'science', 'mountain']"
      ]
     },
     "execution_count": 72,
     "metadata": {},
     "output_type": "execute_result"
    }
   ],
   "source": [
    "word = ['school', 'game', 'piano', 'science', 'hotel', 'mountain'] \n",
    "n_list=[i for i in (word) if len(i)>=6]\n",
    "n_list"
   ]
  },
  {
   "cell_type": "markdown",
   "metadata": {},
   "source": [
    "(2) word = [“school”, “game”, “piano”, “science”, “hotel”, “mountian”] 리스트의 글자수가 들어가있는 새로운 리스트를 생성하세요\n",
    "(리스트 컴프리핸션을 사용해주세요)\n"
   ]
  },
  {
   "cell_type": "code",
   "execution_count": 73,
   "metadata": {},
   "outputs": [
    {
     "data": {
      "text/plain": [
       "[6, 4, 5, 7, 5, 8]"
      ]
     },
     "execution_count": 73,
     "metadata": {},
     "output_type": "execute_result"
    }
   ],
   "source": [
    "word = ['school', 'game', 'piano', 'science', 'hotel', 'mountain']\n",
    "n_list=[len(i) for i in (word)]\n",
    "n_list"
   ]
  },
  {
   "cell_type": "markdown",
   "metadata": {},
   "source": [
    "## 연습문제 10\n",
    "(1) 아래 두 리스트를 각 요소들을 곱해 새로운 리스트 C 를 만드세요\n",
    "a = [[10, 20], [30, 40], [50, 60]]\n",
    "b = [[2, 3], [4, 5], [6, 7]]"
   ]
  },
  {
   "cell_type": "code",
   "execution_count": 75,
   "metadata": {},
   "outputs": [
    {
     "data": {
      "text/plain": [
       "[20, 60, 120, 200, 300, 420]"
      ]
     },
     "execution_count": 75,
     "metadata": {},
     "output_type": "execute_result"
    }
   ],
   "source": [
    "a = [[10, 20], [30, 40], [50, 60]]\n",
    "b = [[2, 3], [4, 5], [6, 7]]\n",
    "\n",
    "n_list1=[]\n",
    "n_list2=[]\n",
    "c=[]\n",
    "\n",
    "for x,y in a:\n",
    "    n_list1.append(x)\n",
    "    n_list1.append(y)\n",
    "    \n",
    "for z,w in b:\n",
    "    n_list2.append(z)\n",
    "    n_list2.append(w)\n",
    "    \n",
    "for i in range(len(n_list)):\n",
    "    c.append(n_list1[i]*n_list2[i])\n",
    "c"
   ]
  },
  {
   "cell_type": "code",
   "execution_count": 134,
   "metadata": {},
   "outputs": [
    {
     "data": {
      "text/plain": [
       "[[20, 60], [120, 200], [300, 420]]"
      ]
     },
     "execution_count": 134,
     "metadata": {},
     "output_type": "execute_result"
    }
   ],
   "source": [
    "a = [[10, 20], [30, 40], [50, 60]]\n",
    "b = [[2, 3], [4, 5], [6, 7]]\n",
    "\n",
    "n_list=[]\n",
    "\n",
    "for i in range(len(a)):\n",
    "    in_list=[]\n",
    "    for j in range(len(a[i])):\n",
    "        in_list.append(a[i][j]*b[i][j])\n",
    "    n_list.append(in_list)\n",
    "n_list\n",
    "        "
   ]
  },
  {
   "cell_type": "code",
   "execution_count": 138,
   "metadata": {},
   "outputs": [
    {
     "name": "stdout",
     "output_type": "stream",
     "text": [
      "[10, 20] [2, 3]\n"
     ]
    },
    {
     "data": {
      "text/plain": [
       "[[20, 60], [120, 200], [300, 420]]"
      ]
     },
     "execution_count": 138,
     "metadata": {},
     "output_type": "execute_result"
    }
   ],
   "source": [
    "for v1,v2 in zip(a,b):\n",
    "    print(v1,v2)\n",
    "    break\n",
    "    \n",
    "n_list=[]\n",
    "for [a1,a2], [b1,b2] in zip(a,b):\n",
    "    n_list.append([a1*b1,a2*b2])\n",
    "n_list"
   ]
  },
  {
   "cell_type": "markdown",
   "metadata": {},
   "source": [
    "## 연습문제 11\n",
    "(1) 아래의 학습코드를 가지고 a 리스트가 [[1,2],[3,4],[5,6]] 와 같이 만들어지도록 수정하세요\n",
    ">>> a = []\n",
    ">>> for i in range(3):\n",
    ">>>     line = []\n",
    ">>>     for j in range(2):\n",
    ">>>        line.append(0)\n",
    ">>>     a.append(line)\n",
    ">>> print(a)\n"
   ]
  },
  {
   "cell_type": "code",
   "execution_count": 131,
   "metadata": {},
   "outputs": [
    {
     "name": "stdout",
     "output_type": "stream",
     "text": [
      "[[3, 3], [3, 3], [3, 3]]\n"
     ]
    }
   ],
   "source": [
    "a = []\n",
    "for i in range(3):\n",
    "    line = [] \n",
    "\n",
    "    for j in range(2):\n",
    "        j+=1\n",
    "        for k in range(3):\n",
    "            k+=1\n",
    "        line.append(j)\n",
    "        \n",
    "        \n",
    "    a.append(line)\n",
    "    \n",
    "print(a)"
   ]
  },
  {
   "cell_type": "code",
   "execution_count": null,
   "metadata": {},
   "outputs": [],
   "source": []
  },
  {
   "cell_type": "code",
   "execution_count": null,
   "metadata": {},
   "outputs": [],
   "source": []
  }
 ],
 "metadata": {
  "kernelspec": {
   "display_name": "Python 3",
   "language": "python",
   "name": "python3"
  },
  "language_info": {
   "codemirror_mode": {
    "name": "ipython",
    "version": 3
   },
   "file_extension": ".py",
   "mimetype": "text/x-python",
   "name": "python",
   "nbconvert_exporter": "python",
   "pygments_lexer": "ipython3",
   "version": "3.8.3"
  },
  "toc": {
   "base_numbering": 1,
   "nav_menu": {},
   "number_sections": true,
   "sideBar": true,
   "skip_h1_title": false,
   "title_cell": "Table of Contents",
   "title_sidebar": "Contents",
   "toc_cell": false,
   "toc_position": {
    "height": "calc(100% - 180px)",
    "left": "10px",
    "top": "150px",
    "width": "165px"
   },
   "toc_section_display": true,
   "toc_window_display": true
  }
 },
 "nbformat": 4,
 "nbformat_minor": 4
}
