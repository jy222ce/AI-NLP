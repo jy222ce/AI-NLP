{
 "cells": [
  {
   "cell_type": "markdown",
   "metadata": {},
   "source": [
    "# 로지스틱 회귀"
   ]
  },
  {
   "attachments": {
    "image.png": {
     "image/png": "[encoded data removed]"
    }
   },
   "cell_type": "markdown",
   "metadata": {},
   "source": [
    "## 시그모이드 함수\n",
    "--------\n",
    "![image.png](attachment:image.png)\n"
   ]
  },
  {
   "attachments": {
    "image.png": {
     "image/png": "[encoded data removed]"
    }
   },
   "cell_type": "markdown",
   "metadata": {},
   "source": [
    "## 오차 공식-평균제곱근 오차를 사용하지 않는 이유\n",
    "------------\n",
    "- 로지스틱 회귀에서 평균 제곱 오차를 비용 함수로 사용하면 경사 하강법을 사용했을 때 찾고자 하는 최소값이 아닌 잘못된 최소에 빠짐.(글로벌 미니멈이 아닌 로컬 미니멈에 도달함)\n",
    "![image.png](attachment:image.png)"
   ]
  },
  {
   "cell_type": "code",
   "execution_count": 1,
   "metadata": {},
   "outputs": [],
   "source": [
    "import tensorflow as tf"
   ]
  },
  {
   "cell_type": "code",
   "execution_count": 2,
   "metadata": {},
   "outputs": [],
   "source": [
    "import numpy as np"
   ]
  },
  {
   "cell_type": "code",
   "execution_count": 25,
   "metadata": {},
   "outputs": [],
   "source": [
    "#x,y의 데이터 값\n",
    "data=[[2,0],[4,0],[6,0],[8,1],[10,1],[12,1],[14,1]]\n",
    "x_data=[x_row[0] for x_row in data]\n",
    "y_data=[y_row[1] for y_row in data]\n",
    "\n",
    "#a, b의 값을 임의로 정함\n",
    "a=tf.Variable(tf.random_normal([1],dtype=tf.float64,seed=0))\n",
    "b=tf.Variable(tf.random_normal([1],dtype=tf.float64,seed=0))\n",
    "\n",
    "#y시그모이드 함수 방정식\n",
    "y=1/(1+np.e**(a*x_data+b))"
   ]
  },
  {
   "cell_type": "code",
   "execution_count": 27,
   "metadata": {
    "scrolled": true
   },
   "outputs": [
    {
     "name": "stdout",
     "output_type": "stream",
     "text": [
      "Epoch:0, loss=1.2676, 기울기 a=0.1849, y절편=-0.4334\n",
      "Epoch:6000, loss=0.0152, 기울기 a=-2.9211, y절편=20.2983\n",
      "Epoch:12000, loss=0.0081, 기울기 a=-3.5638, y절편=24.8011\n",
      "Epoch:18000, loss=0.0055, 기울기 a=-3.9557, y절편=27.5464\n",
      "Epoch:24000, loss=0.0041, 기울기 a=-4.2380, y절편=29.5232\n",
      "Epoch:30000, loss=0.0033, 기울기 a=-4.4586, y절편=31.0676\n",
      "Epoch:36000, loss=0.0028, 기울기 a=-4.6396, y절편=32.3346\n",
      "Epoch:42000, loss=0.0024, 기울기 a=-4.7930, y절편=33.4087\n",
      "Epoch:48000, loss=0.0021, 기울기 a=-4.9261, y절편=34.3406\n",
      "Epoch:54000, loss=0.0019, 기울기 a=-5.0436, y절편=35.1636\n",
      "Epoch:60000, loss=0.0017, 기울기 a=-5.1489, y절편=35.9005\n",
      "[3.88397689e-05]\n",
      "[0.53537991]\n",
      "[1.]\n"
     ]
    }
   ],
   "source": [
    "#loss 구하는 함수\n",
    "loss=-tf.reduce_mean(np.array(y_data)*tf.log(y)+(1-np.array(y_data))*tf.log(1-y))\n",
    "\n",
    "#학습률\n",
    "learning_rate=0.5\n",
    "\n",
    "#로스 최소로 하는 값 찾기\n",
    "gradient_decent=tf.train.GradientDescentOptimizer(learning_rate).minimize(loss)\n",
    "\n",
    "#학습\n",
    "with tf.Session() as sess:\n",
    "    sess.run(tf.global_variables_initializer())\n",
    "    for i in range(60001):\n",
    "        sess.run(gradient_decent)\n",
    "        if i%6000==0:\n",
    "            print('Epoch:%.f, loss=%.4f, 기울기 a=%.4f, y절편=%.4f'%\n",
    "                 (i,sess.run(loss),sess.run(a),sess.run(b)))\n",
    "            \n",
    "    #결과 검증하기\n",
    "    new_x_data=5\n",
    "    y_test=1/(1+np.e**(a*new_x_data+b))\n",
    "    print(sess.run(y_test))\n",
    "    \n",
    "    new_x_data=7\n",
    "    y_test=1/(1+np.e**(a*new_x_data+b))\n",
    "    print(sess.run(y_test))\n",
    "    \n",
    "    new_x_data=13\n",
    "    y_test=1/(1+np.e**(a*new_x_data+b))\n",
    "    print(sess.run(y_test))\n",
    "    "
   ]
  },
  {
   "cell_type": "code",
   "execution_count": 23,
   "metadata": {},
   "outputs": [
    {
     "name": "stdout",
     "output_type": "stream",
     "text": [
      "Epoch:0, loss=0.2939, 기울기 a=-0.6346, y절편=-0.6326\n",
      "Epoch:6000, loss=-0.7997, 기울기 a=-4.0073, y절편=6.6257\n",
      "Epoch:12000, loss=-1.2542, 기울기 a=-5.3244, y절편=11.4792\n",
      "Epoch:18000, loss=-1.3280, 기울기 a=-5.5875, y절편=13.6384\n",
      "Epoch:24000, loss=nan, 기울기 a=nan, y절편=nan\n",
      "Epoch:30000, loss=nan, 기울기 a=nan, y절편=nan\n"
     ]
    }
   ],
   "source": [
    "data=[[1,0.2],[2,0.3],[3,0.5],[4,0.6],[5,0.9],[6,0.95],[7,1.1],[9,1.5]]\n",
    "x_data=[x_row[0] for x_row in data]\n",
    "y_data=[y_row[1] for y_row in data]\n",
    "\n",
    "\n",
    "#a, b의 값을 임의로 정함\n",
    "a=tf.Variable(tf.random_normal([1],dtype=tf.float64,seed=0))\n",
    "b=tf.Variable(tf.random_normal([1],dtype=tf.float64,seed=0))\n",
    "\n",
    "#y시그모이드 함수 방정식\n",
    "y=1/(1+np.e**(a*x_data+b))\n",
    "\n",
    "#loss 구하는 함수\n",
    "loss=-tf.reduce_mean(np.array(y_data)*tf.log(y)+(1-np.array(y_data))*tf.log(1-y))\n",
    "\n",
    "#학습률\n",
    "learning_rate=0.01\n",
    "\n",
    "#로스 최소로 하는 값 찾기\n",
    "gradient_decent=tf.train.GradientDescentOptimizer(learning_rate).minimize(loss)\n",
    "\n",
    "#학습\n",
    "with tf.Session() as sess:\n",
    "    sess.run(tf.global_variables_initializer())\n",
    "    for i in range(30001):\n",
    "        sess.run(gradient_decent)\n",
    "        if i%6000==0:\n",
    "            print('Epoch:%.f, loss=%.4f, 기울기 a=%.4f, y절편=%.4f'%\n",
    "                 (i,sess.run(loss),sess.run(a),sess.run(b)))"
   ]
  },
  {
   "cell_type": "code",
   "execution_count": 29,
   "metadata": {},
   "outputs": [
    {
     "name": "stdout",
     "output_type": "stream",
     "text": [
      "(1, 3)\n",
      "[[12.]]\n"
     ]
    }
   ],
   "source": [
    "x=tf.constant([[1.0,2.0,3.0]])\n",
    "w=tf.constant([[2.0],[2.0],[2.0]])\n",
    "y=tf.matmul(x,w)\n",
    "print(x.get_shape())\n",
    "\n",
    "#텐서플로 안에서 행렬 선언, 연산 기능\n",
    "sess=tf.Session()\n",
    "init=tf.global_variables_initializer()\n",
    "sess.run(init)\n",
    "result=sess.run(y)\n",
    "\n",
    "print (result)"
   ]
  },
  {
   "cell_type": "code",
   "execution_count": 30,
   "metadata": {},
   "outputs": [
    {
     "name": "stdout",
     "output_type": "stream",
     "text": [
      "[[12.]]\n"
     ]
    }
   ],
   "source": [
    "x=tf.Variable([[1.,2.,3.]],dtype=tf.float32)\n",
    "w=tf.constant([[2.],[2.],[2.]],dtype=tf.float32)\n",
    "y=tf.matmul(x,w)\n",
    "\n",
    "#variable로 선언한것\n",
    "sess=tf.Session()\n",
    "init=tf.global_variables_initializer()\n",
    "sess.run(init)\n",
    "result=sess.run(y)\n",
    "\n",
    "print (result)"
   ]
  },
  {
   "cell_type": "code",
   "execution_count": 33,
   "metadata": {},
   "outputs": [
    {
     "name": "stdout",
     "output_type": "stream",
     "text": [
      "[[12.]\n",
      " [12.]\n",
      " [18.]]\n"
     ]
    }
   ],
   "source": [
    "input_data=[[1.,2.,3.],[1.,2.,3.],[2.,3.,4.]]#3*3matrix\n",
    "x=tf.placeholder(dtype=tf.float32,shape=[None,3])\n",
    "w=tf.Variable([[2.],[2.],[2.]],dtype=tf.float32)#3*1matrix\n",
    "y=tf.matmul(x,w)\n",
    "\n",
    "sess=tf.Session()\n",
    "init=tf.global_variables_initializer()\n",
    "sess.run(init)\n",
    "result=sess.run(y,feed_dict={x:input_data})\n",
    "\n",
    "print(result)\n",
    "\n",
    "#placeholder도 행렬 저장 가능. "
   ]
  },
  {
   "cell_type": "code",
   "execution_count": 34,
   "metadata": {},
   "outputs": [
    {
     "name": "stdout",
     "output_type": "stream",
     "text": [
      "(2, 3)\n",
      "[[10.]\n",
      " [16.]]\n"
     ]
    }
   ],
   "source": [
    "input_data=[[1,1,1],[2,2,2]]\n",
    "\n",
    "x=tf.placeholder(dtype=tf.float32, shape=[2,3])\n",
    "w=tf.Variable([[2],[2],[2]],dtype=tf.float32)\n",
    "b=tf.Variable([4],dtype=tf.float32)\n",
    "y=tf.matmul(x,w)+b\n",
    "print(x.get_shape())\n",
    "\n",
    "sess=tf.Session()\n",
    "init=tf.global_variables_initializer()\n",
    "sess.run(init)\n",
    "result=sess.run(y,feed_dict={x:input_data})\n",
    "\n",
    "print(result)\n",
    "\n",
    "#브로드캐스팅"
   ]
  },
  {
   "cell_type": "markdown",
   "metadata": {},
   "source": [
    "## 여러 입력 값을 갖는 로지스틱 회귀"
   ]
  },
  {
   "cell_type": "code",
   "execution_count": 57,
   "metadata": {},
   "outputs": [
    {
     "name": "stdout",
     "output_type": "stream",
     "text": [
      "step=300, a1=0.8052, a2=-0.5672, b=-2.2783, loss=0.2763\n",
      "step=600, a1=0.8221, a2=-0.3114, b=-3.7953, loss=0.1960\n",
      "step=900, a1=0.7370, a2=0.0134, b=-4.8819, loss=0.1525\n",
      "step=1200, a1=0.6350, a2=0.3201, b=-5.7378, loss=0.1245\n",
      "step=1500, a1=0.5367, a2=0.5943, b=-6.4456, loss=0.1049\n",
      "step=1800, a1=0.4473, a2=0.8366, b=-7.0496, loss=0.0905\n",
      "step=2100, a1=0.3676, a2=1.0506, b=-7.5767, loss=0.0795\n",
      "step=2400, a1=0.2971, a2=1.2405, b=-8.0444, loss=0.0708\n",
      "step=2700, a1=0.2346, a2=1.4101, b=-8.4647, loss=0.0638\n",
      "step=3000, a1=0.1790, a2=1.5627, b=-8.8465, loss=0.0581\n",
      "predicted= [[0.]\n",
      " [0.]\n",
      " [0.]\n",
      " [1.]\n",
      " [1.]\n",
      " [1.]\n",
      " [1.]]\n",
      "check predicted=\n",
      " [[0.]\n",
      " [1.]\n",
      " [0.]]\n",
      "check hypothesis=\n",
      " [[0.2988344 ]\n",
      " [0.68052054]\n",
      " [0.42152538]]\n",
      "\n",
      "Hypothesis:\n",
      " [[0.02187046]\n",
      " [0.03097995]\n",
      " [0.17914219]\n",
      " [0.87672983]\n",
      " [0.97981839]\n",
      " [0.99699171]\n",
      " [0.99955817]] \n",
      "Correct (Y):\n",
      " [[0.]\n",
      " [0.]\n",
      " [0.]\n",
      " [1.]\n",
      " [1.]\n",
      " [1.]\n",
      " [1.]] \n",
      "Accuracy:\n",
      " 1.0\n"
     ]
    }
   ],
   "source": [
    "#실행할 때마다 같은 결과를 출력하기 위한 시드값 설정\n",
    "seed=0\n",
    "np.random.seed(seed)\n",
    "tf.set_random_seed(seed)\n",
    "\n",
    "#데이터값\n",
    "x_data=np.array([[2,3],[4,3],[6,4],[8,6],[10,7],[12,8],[14,9]])\n",
    "y_data=np.array([[0,0,0,1,1,1,1]]).reshape(7,1)\n",
    "\n",
    "#입력 값을 플레이스 홀더에 저장\n",
    "X=tf.placeholder(tf.float64,shape=[None,2])\n",
    "Y=tf.placeholder(tf.float64,shape=[None,1])\n",
    "\n",
    "#기울기 a와 바이어스 b의 값을 임의로 정함\n",
    "a=tf.Variable(tf.random_uniform([2,1],dtype=tf.float64))\n",
    "#[2,1] 의미: 들어오는 값은 두개, 나가는 값은 한개\n",
    "b=tf.Variable(tf.random_uniform([1],dtype=tf.float64))\n",
    "\n",
    "#y 시그모이드 함수의 방정식을 세움\n",
    "y=tf.sigmoid(tf.matmul(X,a)+b)\n",
    "\n",
    "#오차를 구하는 함수\n",
    "loss=-tf.reduce_mean(Y*tf.log(y)+(1-Y)*tf.log(1-y))\n",
    "\n",
    "#학습률 값\n",
    "learning_rate=0.1\n",
    "\n",
    "#오차를 최소로 하는 값 찾기\n",
    "gradient_decent=tf.train.GradientDescentOptimizer(learning_rate).minimize(loss)\n",
    "\n",
    "predicted=tf.cast(y>0.5,dtype=tf.float64)\n",
    "accuracy=tf.reduce_mean(tf.cast(tf.equal(predicted,Y),dtype=tf.float64))\n",
    "\n",
    "#학습\n",
    "with tf.Session() as sess:\n",
    "    sess.run(tf.global_variables_initializer())\n",
    "    \n",
    "    for i in range(3001):\n",
    "        a_,b_,loss_, _=sess.run([a,b,loss,gradient_decent],\n",
    "                                feed_dict={X:x_data, Y:y_data})\n",
    "        if (i+1)%300==0:\n",
    "            print('step=%d, a1=%.4f, a2=%.4f, b=%.4f, loss=%.4f'%\n",
    "                 (i+1,a_[0],a_[1],b_,loss_))\n",
    "            \n",
    "    print('predicted=',sess.run(predicted, feed_dict={X:x_data}))\n",
    "    \n",
    "    \n",
    "\n",
    "    #다른 값 테스트\n",
    "    p_val, h_val=sess.run([predicted, y],feed_dict={X:[[1,5],[10,5],[4,5]]})\n",
    "    print('check predicted=\\n',p_val)\n",
    "    print('check hypothesis=\\n',h_val)\n",
    "\n",
    "    #정확도 측정\n",
    "    h,c,a=sess.run([y,predicted, accuracy],feed_dict={X:x_data,Y:y_data})\n",
    "\n",
    "    print('\\nHypothesis:\\n',h,\"\\nCorrect (Y):\\n\",c,'\\nAccuracy:\\n',a)"
   ]
  },
  {
   "cell_type": "code",
   "execution_count": null,
   "metadata": {},
   "outputs": [],
   "source": []
  },
  {
   "cell_type": "code",
   "execution_count": null,
   "metadata": {},
   "outputs": [],
   "source": []
  },
  {
   "cell_type": "code",
   "execution_count": null,
   "metadata": {},
   "outputs": [],
   "source": []
  }
 ],
 "metadata": {
  "kernelspec": {
   "display_name": "Python 3",
   "language": "python",
   "name": "python3"
  },
  "language_info": {
   "codemirror_mode": {
    "name": "ipython",
    "version": 3
   },
   "file_extension": ".py",
   "mimetype": "text/x-python",
   "name": "python",
   "nbconvert_exporter": "python",
   "pygments_lexer": "ipython3",
   "version": "3.7.7"
  },
  "toc": {
   "base_numbering": 1,
   "nav_menu": {},
   "number_sections": true,
   "sideBar": true,
   "skip_h1_title": false,
   "title_cell": "Table of Contents",
   "title_sidebar": "Contents",
   "toc_cell": false,
   "toc_position": {},
   "toc_section_display": true,
   "toc_window_display": false
  }
 },
 "nbformat": 4,
 "nbformat_minor": 4
}
