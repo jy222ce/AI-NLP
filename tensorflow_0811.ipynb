{
 "cells": [
  {
   "cell_type": "code",
   "execution_count": 1,
   "metadata": {},
   "outputs": [],
   "source": [
    "import tensorflow as tf"
   ]
  },
  {
   "cell_type": "code",
   "execution_count": 2,
   "metadata": {},
   "outputs": [
    {
     "data": {
      "text/plain": [
       "'2.1.0'"
      ]
     },
     "execution_count": 2,
     "metadata": {},
     "output_type": "execute_result"
    }
   ],
   "source": [
    "tf.__version__"
   ]
  },
  {
   "cell_type": "code",
   "execution_count": 3,
   "metadata": {},
   "outputs": [],
   "source": [
    "#딥러닝 구동에 필요한 케라스함수\n",
    "from tensorflow.keras.models import Sequential\n",
    "from tensorflow.keras.layers import Dense\n",
    "\n",
    "#라이브러리\n",
    "import numpy as np\n",
    "import tensorflow as tf"
   ]
  },
  {
   "cell_type": "code",
   "execution_count": 4,
   "metadata": {},
   "outputs": [],
   "source": [
    "#랜덤 정해놓기\n",
    "np.random.seed(3)\n",
    "tf.random.set_seed(3)"
   ]
  },
  {
   "cell_type": "code",
   "execution_count": 12,
   "metadata": {},
   "outputs": [],
   "source": [
    "Data_set = np.loadtxt('C:/Users/gram/Documents/GitHub/AI-NLP/ThoraricSurgery.csv',delimiter=',')\n",
    "\n",
    "# 환자 기록과 수술결과를 X, Y로 나누기\n",
    "X = Data_set[:, 0:17]\n",
    "Y = Data_set[:, 17]"
   ]
  },
  {
   "cell_type": "code",
   "execution_count": 15,
   "metadata": {},
   "outputs": [
    {
     "name": "stdout",
     "output_type": "stream",
     "text": [
      "Train on 470 samples\n",
      "Epoch 1/100\n",
      "470/470 [==============================] - 1s 2ms/sample - loss: 0.1496 - accuracy: 0.8383\n",
      "Epoch 2/100\n",
      "470/470 [==============================] - 0s 187us/sample - loss: 0.1445 - accuracy: 0.8447\n",
      "Epoch 3/100\n",
      "470/470 [==============================] - 0s 185us/sample - loss: 0.1450 - accuracy: 0.8511\n",
      "Epoch 4/100\n",
      "470/470 [==============================] - 0s 199us/sample - loss: 0.1442 - accuracy: 0.8511 - loss: 0.1589 - accuracy: 0.83\n",
      "Epoch 5/100\n",
      "470/470 [==============================] - 0s 212us/sample - loss: 0.1449 - accuracy: 0.8511\n",
      "Epoch 6/100\n",
      "470/470 [==============================] - 0s 255us/sample - loss: 0.1440 - accuracy: 0.8511\n",
      "Epoch 7/100\n",
      "470/470 [==============================] - 0s 263us/sample - loss: 0.1459 - accuracy: 0.8468\n",
      "Epoch 8/100\n",
      "470/470 [==============================] - 0s 238us/sample - loss: 0.1470 - accuracy: 0.8511\n",
      "Epoch 9/100\n",
      "470/470 [==============================] - 0s 187us/sample - loss: 0.1438 - accuracy: 0.8511\n",
      "Epoch 10/100\n",
      "470/470 [==============================] - 0s 219us/sample - loss: 0.1351 - accuracy: 0.8468\n",
      "Epoch 11/100\n",
      "470/470 [==============================] - 0s 202us/sample - loss: 0.1357 - accuracy: 0.8447\n",
      "Epoch 12/100\n",
      "470/470 [==============================] - 0s 223us/sample - loss: 0.1346 - accuracy: 0.8511\n",
      "Epoch 13/100\n",
      "470/470 [==============================] - 0s 199us/sample - loss: 0.1438 - accuracy: 0.8362\n",
      "Epoch 14/100\n",
      "470/470 [==============================] - 0s 197us/sample - loss: 0.1426 - accuracy: 0.8511\n",
      "Epoch 15/100\n",
      "470/470 [==============================] - 0s 202us/sample - loss: 0.1405 - accuracy: 0.8511\n",
      "Epoch 16/100\n",
      "470/470 [==============================] - 0s 204us/sample - loss: 0.1430 - accuracy: 0.8489\n",
      "Epoch 17/100\n",
      "470/470 [==============================] - 0s 193us/sample - loss: 0.1435 - accuracy: 0.8489\n",
      "Epoch 18/100\n",
      "470/470 [==============================] - 0s 191us/sample - loss: 0.1382 - accuracy: 0.8468\n",
      "Epoch 19/100\n",
      "470/470 [==============================] - 0s 233us/sample - loss: 0.1306 - accuracy: 0.8489\n",
      "Epoch 20/100\n",
      "470/470 [==============================] - 0s 316us/sample - loss: 0.1268 - accuracy: 0.8532\n",
      "Epoch 21/100\n",
      "470/470 [==============================] - 0s 176us/sample - loss: 0.1324 - accuracy: 0.8511\n",
      "Epoch 22/100\n",
      "470/470 [==============================] - 0s 195us/sample - loss: 0.1347 - accuracy: 0.8511\n",
      "Epoch 23/100\n",
      "470/470 [==============================] - 0s 187us/sample - loss: 0.1402 - accuracy: 0.8447\n",
      "Epoch 24/100\n",
      "470/470 [==============================] - 0s 221us/sample - loss: 0.1425 - accuracy: 0.8511\n",
      "Epoch 25/100\n",
      "470/470 [==============================] - 0s 216us/sample - loss: 0.1423 - accuracy: 0.8511\n",
      "Epoch 26/100\n",
      "470/470 [==============================] - 0s 238us/sample - loss: 0.1414 - accuracy: 0.8511\n",
      "Epoch 27/100\n",
      "470/470 [==============================] - 0s 233us/sample - loss: 0.1408 - accuracy: 0.8511\n",
      "Epoch 28/100\n",
      "470/470 [==============================] - 0s 225us/sample - loss: 0.1402 - accuracy: 0.8532\n",
      "Epoch 29/100\n",
      "470/470 [==============================] - 0s 202us/sample - loss: 0.1421 - accuracy: 0.8489\n",
      "Epoch 30/100\n",
      "470/470 [==============================] - 0s 233us/sample - loss: 0.1386 - accuracy: 0.8489\n",
      "Epoch 31/100\n",
      "470/470 [==============================] - 0s 255us/sample - loss: 0.1363 - accuracy: 0.8511\n",
      "Epoch 32/100\n",
      "470/470 [==============================] - 0s 291us/sample - loss: 0.1319 - accuracy: 0.8532\n",
      "Epoch 33/100\n",
      "470/470 [==============================] - 0s 187us/sample - loss: 0.1380 - accuracy: 0.8511\n",
      "Epoch 34/100\n",
      "470/470 [==============================] - 0s 178us/sample - loss: 0.1359 - accuracy: 0.8532\n",
      "Epoch 35/100\n",
      "470/470 [==============================] - 0s 176us/sample - loss: 0.1381 - accuracy: 0.8489\n",
      "Epoch 36/100\n",
      "470/470 [==============================] - 0s 193us/sample - loss: 0.1388 - accuracy: 0.8511\n",
      "Epoch 37/100\n",
      "470/470 [==============================] - 0s 210us/sample - loss: 0.1351 - accuracy: 0.8489\n",
      "Epoch 38/100\n",
      "470/470 [==============================] - 0s 240us/sample - loss: 0.1416 - accuracy: 0.8511\n",
      "Epoch 39/100\n",
      "470/470 [==============================] - 0s 255us/sample - loss: 0.1386 - accuracy: 0.8532 - loss: 0.1627 - accuracy: 0.\n",
      "Epoch 40/100\n",
      "470/470 [==============================] - 0s 280us/sample - loss: 0.1365 - accuracy: 0.8489\n",
      "Epoch 41/100\n",
      "470/470 [==============================] - 0s 248us/sample - loss: 0.1351 - accuracy: 0.8489\n",
      "Epoch 42/100\n",
      "470/470 [==============================] - 0s 259us/sample - loss: 0.1412 - accuracy: 0.8511\n",
      "Epoch 43/100\n",
      "470/470 [==============================] - 0s 308us/sample - loss: 0.1376 - accuracy: 0.8468\n",
      "Epoch 44/100\n",
      "470/470 [==============================] - 0s 244us/sample - loss: 0.1391 - accuracy: 0.8532\n",
      "Epoch 45/100\n",
      "470/470 [==============================] - 0s 193us/sample - loss: 0.1337 - accuracy: 0.8532\n",
      "Epoch 46/100\n",
      "470/470 [==============================] - 0s 172us/sample - loss: 0.1324 - accuracy: 0.8511\n",
      "Epoch 47/100\n",
      "470/470 [==============================] - 0s 182us/sample - loss: 0.1341 - accuracy: 0.8511\n",
      "Epoch 48/100\n",
      "470/470 [==============================] - 0s 185us/sample - loss: 0.1284 - accuracy: 0.8511\n",
      "Epoch 49/100\n",
      "470/470 [==============================] - 0s 318us/sample - loss: 0.1387 - accuracy: 0.8489\n",
      "Epoch 50/100\n",
      "470/470 [==============================] - 0s 197us/sample - loss: 0.1345 - accuracy: 0.8532\n",
      "Epoch 51/100\n",
      "470/470 [==============================] - 0s 278us/sample - loss: 0.1267 - accuracy: 0.8553\n",
      "Epoch 52/100\n",
      "470/470 [==============================] - 0s 269us/sample - loss: 0.1276 - accuracy: 0.8574\n",
      "Epoch 53/100\n",
      "470/470 [==============================] - 0s 331us/sample - loss: 0.1250 - accuracy: 0.8574 - loss: 0.1366 - accuracy: 0.84\n",
      "Epoch 54/100\n",
      "470/470 [==============================] - 0s 318us/sample - loss: 0.1309 - accuracy: 0.8511\n",
      "Epoch 55/100\n",
      "470/470 [==============================] - 0s 225us/sample - loss: 0.1399 - accuracy: 0.8511\n",
      "Epoch 56/100\n",
      "470/470 [==============================] - 0s 223us/sample - loss: 0.1285 - accuracy: 0.8532\n",
      "Epoch 57/100\n",
      "470/470 [==============================] - 0s 216us/sample - loss: 0.1321 - accuracy: 0.8596\n",
      "Epoch 58/100\n",
      "470/470 [==============================] - 0s 191us/sample - loss: 0.1276 - accuracy: 0.8596\n",
      "Epoch 59/100\n",
      "470/470 [==============================] - 0s 210us/sample - loss: 0.1257 - accuracy: 0.8532\n",
      "Epoch 60/100\n",
      "470/470 [==============================] - 0s 202us/sample - loss: 0.1288 - accuracy: 0.8468\n",
      "Epoch 61/100\n",
      "470/470 [==============================] - 0s 189us/sample - loss: 0.1293 - accuracy: 0.8489\n",
      "Epoch 62/100\n",
      "470/470 [==============================] - 0s 187us/sample - loss: 0.1295 - accuracy: 0.8511\n",
      "Epoch 63/100\n",
      "470/470 [==============================] - 0s 182us/sample - loss: 0.1270 - accuracy: 0.8532\n",
      "Epoch 64/100\n",
      "470/470 [==============================] - 0s 227us/sample - loss: 0.1332 - accuracy: 0.8553\n",
      "Epoch 65/100\n",
      "470/470 [==============================] - 0s 246us/sample - loss: 0.1226 - accuracy: 0.8553\n",
      "Epoch 66/100\n",
      "470/470 [==============================] - 0s 318us/sample - loss: 0.1257 - accuracy: 0.8532\n",
      "Epoch 67/100\n",
      "470/470 [==============================] - 0s 329us/sample - loss: 0.1247 - accuracy: 0.8553\n",
      "Epoch 68/100\n",
      "470/470 [==============================] - 0s 210us/sample - loss: 0.1312 - accuracy: 0.8532\n",
      "Epoch 69/100\n",
      "470/470 [==============================] - 0s 199us/sample - loss: 0.1254 - accuracy: 0.8532\n",
      "Epoch 70/100\n",
      "470/470 [==============================] - 0s 227us/sample - loss: 0.1259 - accuracy: 0.8553\n",
      "Epoch 71/100\n",
      "470/470 [==============================] - 0s 180us/sample - loss: 0.1288 - accuracy: 0.8574\n",
      "Epoch 72/100\n",
      "470/470 [==============================] - 0s 189us/sample - loss: 0.1318 - accuracy: 0.8468\n",
      "Epoch 73/100\n",
      "470/470 [==============================] - 0s 202us/sample - loss: 0.1345 - accuracy: 0.8532\n",
      "Epoch 74/100\n",
      "470/470 [==============================] - 0s 180us/sample - loss: 0.1294 - accuracy: 0.8511\n",
      "Epoch 75/100\n",
      "470/470 [==============================] - 0s 189us/sample - loss: 0.1327 - accuracy: 0.8532\n",
      "Epoch 76/100\n",
      "470/470 [==============================] - 0s 202us/sample - loss: 0.1231 - accuracy: 0.8553\n",
      "Epoch 77/100\n"
     ]
    },
    {
     "name": "stdout",
     "output_type": "stream",
     "text": [
      "470/470 [==============================] - 0s 297us/sample - loss: 0.1311 - accuracy: 0.8574\n",
      "Epoch 78/100\n",
      "470/470 [==============================] - 0s 325us/sample - loss: 0.1246 - accuracy: 0.8553\n",
      "Epoch 79/100\n",
      "470/470 [==============================] - 0s 318us/sample - loss: 0.1220 - accuracy: 0.8489\n",
      "Epoch 80/100\n",
      "470/470 [==============================] - 0s 291us/sample - loss: 0.1382 - accuracy: 0.8511\n",
      "Epoch 81/100\n",
      "470/470 [==============================] - 0s 269us/sample - loss: 0.1334 - accuracy: 0.8553\n",
      "Epoch 82/100\n",
      "470/470 [==============================] - 0s 206us/sample - loss: 0.1215 - accuracy: 0.8489\n",
      "Epoch 83/100\n",
      "470/470 [==============================] - 0s 197us/sample - loss: 0.1251 - accuracy: 0.8596\n",
      "Epoch 84/100\n",
      "470/470 [==============================] - 0s 168us/sample - loss: 0.1232 - accuracy: 0.8489\n",
      "Epoch 85/100\n",
      "470/470 [==============================] - 0s 178us/sample - loss: 0.1254 - accuracy: 0.8596\n",
      "Epoch 86/100\n",
      "470/470 [==============================] - 0s 178us/sample - loss: 0.1281 - accuracy: 0.8617\n",
      "Epoch 87/100\n",
      "470/470 [==============================] - 0s 180us/sample - loss: 0.1273 - accuracy: 0.8511\n",
      "Epoch 88/100\n",
      "470/470 [==============================] - 0s 182us/sample - loss: 0.1282 - accuracy: 0.8574\n",
      "Epoch 89/100\n",
      "470/470 [==============================] - 0s 189us/sample - loss: 0.1320 - accuracy: 0.8532\n",
      "Epoch 90/100\n",
      "470/470 [==============================] - 0s 223us/sample - loss: 0.1225 - accuracy: 0.8574\n",
      "Epoch 91/100\n",
      "470/470 [==============================] - 0s 253us/sample - loss: 0.1247 - accuracy: 0.8468\n",
      "Epoch 92/100\n",
      "470/470 [==============================] - 0s 227us/sample - loss: 0.1206 - accuracy: 0.8532\n",
      "Epoch 93/100\n",
      "470/470 [==============================] - 0s 250us/sample - loss: 0.1297 - accuracy: 0.8511\n",
      "Epoch 94/100\n",
      "470/470 [==============================] - 0s 261us/sample - loss: 0.1358 - accuracy: 0.8553\n",
      "Epoch 95/100\n",
      "470/470 [==============================] - 0s 204us/sample - loss: 0.1371 - accuracy: 0.8532\n",
      "Epoch 96/100\n",
      "470/470 [==============================] - 0s 170us/sample - loss: 0.1309 - accuracy: 0.8596\n",
      "Epoch 97/100\n",
      "470/470 [==============================] - 0s 172us/sample - loss: 0.1207 - accuracy: 0.8532\n",
      "Epoch 98/100\n",
      "470/470 [==============================] - 0s 176us/sample - loss: 0.1199 - accuracy: 0.8596\n",
      "Epoch 99/100\n",
      "470/470 [==============================] - 0s 180us/sample - loss: 0.1254 - accuracy: 0.8574\n",
      "Epoch 100/100\n",
      "470/470 [==============================] - 0s 178us/sample - loss: 0.1254 - accuracy: 0.8489\n",
      "470/470 [==============================] - 0s 229us/sample - loss: 0.1213 - accuracy: 0.8574\n",
      "\n",
      " Accuracy:0.8574\n"
     ]
    }
   ],
   "source": [
    "#딥러닝 구조를 결정합니다(모델을 설정하고 실행하는 부분입니다)\n",
    "model=Sequential()\n",
    "model.add(Dense(30,input_dim=17,activation='relu'))\n",
    "model.add(Dense(1,activation='sigmoid'))\n",
    "\n",
    "#딥러닝을 실행합니다.\n",
    "model.compile(loss='mean_squared_error',optimizer='adam',metrics=['accuracy'])\n",
    "model.fit(X,Y,epochs=100,batch_size=10)"
   ]
  },
  {
   "cell_type": "code",
   "execution_count": 16,
   "metadata": {},
   "outputs": [
    {
     "name": "stdout",
     "output_type": "stream",
     "text": [
      "470/470 [==============================] - 0s 59us/sample - loss: 0.1213 - accuracy: 0.8574\n",
      "\n",
      " Accuracy:0.8574\n"
     ]
    }
   ],
   "source": [
    "#결과 출력\n",
    "print('\\n Accuracy:%.4f'%(model.evaluate(X,Y)[1]))"
   ]
  },
  {
   "cell_type": "code",
   "execution_count": 17,
   "metadata": {},
   "outputs": [],
   "source": [
    "import numpy as np"
   ]
  },
  {
   "cell_type": "code",
   "execution_count": 18,
   "metadata": {},
   "outputs": [
    {
     "name": "stderr",
     "output_type": "stream",
     "text": [
      "c:\\users\\gram\\anaconda3\\envs\\tf_env\\lib\\site-packages\\ipykernel_launcher.py:5: VisibleDeprecationWarning: Creating an ndarray from ragged nested sequences (which is a list-or-tuple of lists-or-tuples-or ndarrays with different lengths or shapes) is deprecated. If you meant to do this, you must specify 'dtype=object' when creating the ndarray\n",
      "  \"\"\"\n"
     ]
    }
   ],
   "source": [
    "d=np.array([[[1,2,3,4],\n",
    "            [5,6,7,8],\n",
    "            [9,10,11,12]],\n",
    "           [1,2,3,4],\n",
    "           [5,6,7,8]])"
   ]
  },
  {
   "cell_type": "code",
   "execution_count": 19,
   "metadata": {},
   "outputs": [
    {
     "data": {
      "text/plain": [
       "array([list([[1, 2, 3, 4], [5, 6, 7, 8], [9, 10, 11, 12]]),\n",
       "       list([1, 2, 3, 4]), list([5, 6, 7, 8])], dtype=object)"
      ]
     },
     "execution_count": 19,
     "metadata": {},
     "output_type": "execute_result"
    }
   ],
   "source": [
    "d"
   ]
  },
  {
   "cell_type": "code",
   "execution_count": 20,
   "metadata": {},
   "outputs": [
    {
     "data": {
      "text/plain": [
       "3"
      ]
     },
     "execution_count": 20,
     "metadata": {},
     "output_type": "execute_result"
    }
   ],
   "source": [
    "len(d)"
   ]
  },
  {
   "cell_type": "code",
   "execution_count": 21,
   "metadata": {},
   "outputs": [
    {
     "data": {
      "text/plain": [
       "array(['', '', '', '', ''], dtype='<U4')"
      ]
     },
     "execution_count": 21,
     "metadata": {},
     "output_type": "execute_result"
    }
   ],
   "source": [
    "d=np.zeros(5,dtype='U4')\n",
    "d"
   ]
  },
  {
   "cell_type": "code",
   "execution_count": 22,
   "metadata": {},
   "outputs": [
    {
     "data": {
      "text/plain": [
       "array(['abc', 'abcd', 'ABC', '', ''], dtype='<U4')"
      ]
     },
     "execution_count": 22,
     "metadata": {},
     "output_type": "execute_result"
    }
   ],
   "source": [
    "d[0]='abc'\n",
    "d[1]='abcd'\n",
    "d[2]='ABC'\n",
    "d"
   ]
  },
  {
   "cell_type": "code",
   "execution_count": 23,
   "metadata": {},
   "outputs": [
    {
     "data": {
      "text/plain": [
       "array([[[1, 1, 1, 1],\n",
       "        [1, 1, 1, 1],\n",
       "        [1, 1, 1, 1]],\n",
       "\n",
       "       [[1, 1, 1, 1],\n",
       "        [1, 1, 1, 1],\n",
       "        [1, 1, 1, 1]]], dtype=int64)"
      ]
     },
     "execution_count": 23,
     "metadata": {},
     "output_type": "execute_result"
    }
   ],
   "source": [
    "e=np.ones((2,3,4),dtype='i8')\n",
    "e"
   ]
  },
  {
   "cell_type": "code",
   "execution_count": 24,
   "metadata": {},
   "outputs": [
    {
     "data": {
      "text/plain": [
       "array([[0., 0., 0.],\n",
       "       [0., 0., 0.]])"
      ]
     },
     "execution_count": 24,
     "metadata": {},
     "output_type": "execute_result"
    }
   ],
   "source": [
    "b=np.zeros((2,3))\n",
    "b"
   ]
  },
  {
   "cell_type": "code",
   "execution_count": 25,
   "metadata": {},
   "outputs": [
    {
     "data": {
      "text/plain": [
       "array([[1., 1., 1.],\n",
       "       [1., 1., 1.]], dtype=float32)"
      ]
     },
     "execution_count": 25,
     "metadata": {},
     "output_type": "execute_result"
    }
   ],
   "source": [
    "f=np.ones_like(b,dtype='f')\n",
    "f"
   ]
  },
  {
   "cell_type": "code",
   "execution_count": 26,
   "metadata": {},
   "outputs": [
    {
     "data": {
      "text/plain": [
       "array([[1.27621817e-311, 3.16202013e-322, 0.00000000e+000],\n",
       "       [0.00000000e+000, 0.00000000e+000, 1.21026593e-071],\n",
       "       [8.46913627e+165, 8.30135922e-067, 9.77232412e+165],\n",
       "       [4.51851225e-037, 8.93341729e+165, 9.44366119e+164]])"
      ]
     },
     "execution_count": 26,
     "metadata": {},
     "output_type": "execute_result"
    }
   ],
   "source": [
    "g=np.empty((4,3))\n",
    "g"
   ]
  },
  {
   "cell_type": "code",
   "execution_count": 27,
   "metadata": {},
   "outputs": [
    {
     "data": {
      "text/plain": [
       "array([[1, 2, 3],\n",
       "       [4, 5, 6]])"
      ]
     },
     "execution_count": 27,
     "metadata": {},
     "output_type": "execute_result"
    }
   ],
   "source": [
    "A=np.array([[1,2,3],[4,5,6]])#2*3행렬\n",
    "A"
   ]
  },
  {
   "cell_type": "code",
   "execution_count": 28,
   "metadata": {},
   "outputs": [
    {
     "data": {
      "text/plain": [
       "array([[1, 4],\n",
       "       [2, 5],\n",
       "       [3, 6]])"
      ]
     },
     "execution_count": 28,
     "metadata": {},
     "output_type": "execute_result"
    }
   ],
   "source": [
    "A.T#3*2행렬"
   ]
  },
  {
   "cell_type": "code",
   "execution_count": 29,
   "metadata": {},
   "outputs": [
    {
     "data": {
      "text/plain": [
       "array([[1, 2, 3],\n",
       "       [4, 5, 6]])"
      ]
     },
     "execution_count": 29,
     "metadata": {},
     "output_type": "execute_result"
    }
   ],
   "source": [
    "A"
   ]
  },
  {
   "cell_type": "code",
   "execution_count": 33,
   "metadata": {},
   "outputs": [],
   "source": [
    "a=np.arange(12)"
   ]
  },
  {
   "cell_type": "code",
   "execution_count": 35,
   "metadata": {},
   "outputs": [
    {
     "data": {
      "text/plain": [
       "array([ 0,  1,  2,  3,  4,  5,  6,  7,  8,  9, 10, 11])"
      ]
     },
     "execution_count": 35,
     "metadata": {},
     "output_type": "execute_result"
    }
   ],
   "source": [
    "a"
   ]
  },
  {
   "cell_type": "code",
   "execution_count": 34,
   "metadata": {},
   "outputs": [
    {
     "data": {
      "text/plain": [
       "array([[ 0,  1,  2,  3],\n",
       "       [ 4,  5,  6,  7],\n",
       "       [ 8,  9, 10, 11]])"
      ]
     },
     "execution_count": 34,
     "metadata": {},
     "output_type": "execute_result"
    }
   ],
   "source": [
    "a.reshape(3,-1)"
   ]
  },
  {
   "cell_type": "code",
   "execution_count": null,
   "metadata": {},
   "outputs": [],
   "source": []
  }
 ],
 "metadata": {
  "kernelspec": {
   "display_name": "Python 3",
   "language": "python",
   "name": "python3"
  },
  "language_info": {
   "codemirror_mode": {
    "name": "ipython",
    "version": 3
   },
   "file_extension": ".py",
   "mimetype": "text/x-python",
   "name": "python",
   "nbconvert_exporter": "python",
   "pygments_lexer": "ipython3",
   "version": "3.7.7"
  },
  "toc": {
   "base_numbering": 1,
   "nav_menu": {},
   "number_sections": true,
   "sideBar": true,
   "skip_h1_title": false,
   "title_cell": "Table of Contents",
   "title_sidebar": "Contents",
   "toc_cell": false,
   "toc_position": {},
   "toc_section_display": true,
   "toc_window_display": false
  }
 },
 "nbformat": 4,
 "nbformat_minor": 4
}
