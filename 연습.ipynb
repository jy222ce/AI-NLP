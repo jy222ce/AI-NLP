{
 "cells": [
  {
   "cell_type": "markdown",
   "metadata": {},
   "source": [
    "# 스택\n",
    "-------\n",
    "- 장점:참조지역성(한번 참조된 곳은 다시 참조될 확률 높음) 활용가능\n",
    "- 단점:데이터 탐색 어려움"
   ]
  },
  {
   "cell_type": "markdown",
   "metadata": {},
   "source": [
    "## 리스트\n",
    "---------\n",
    "- 파이썬 리스트는 동적배열\n",
    "- 리스트 변수에 첫번째 원소의 주소값 저장"
   ]
  },
  {
   "cell_type": "code",
   "execution_count": 16,
   "metadata": {},
   "outputs": [],
   "source": [
    "class Stack(list):\n",
    "    def __init__(self):\n",
    "        self.stack=[]\n",
    "        \n",
    "    def push(self, data):\n",
    "        self.stack.append(data)\n",
    "    \n",
    "    def pop(self):\n",
    "        if self.is_empty():\n",
    "            return -1\n",
    "        else:\n",
    "            return self.stack.pop()\n",
    "        \n",
    "    def peek(self):\n",
    "        return self.stack[-1]\n",
    "    \n",
    "    def is_empty(self):\n",
    "        if len(self.stack)==0:\n",
    "            return True\n",
    "        else:\n",
    "            return False"
   ]
  },
  {
   "cell_type": "code",
   "execution_count": 17,
   "metadata": {},
   "outputs": [
    {
     "name": "stdout",
     "output_type": "stream",
     "text": [
      "3\n",
      "3\n",
      "2\n"
     ]
    }
   ],
   "source": [
    "if __name__=='__main__':\n",
    "    s=Stack()\n",
    "    s.push(1)\n",
    "    s.push(2)\n",
    "    s.push(3)\n",
    "    \n",
    "    print(s.peek())\n",
    "    print(s.pop())\n",
    "    print(s.pop())"
   ]
  },
  {
   "cell_type": "markdown",
   "metadata": {},
   "source": [
    "## singly linked list"
   ]
  },
  {
   "cell_type": "code",
   "execution_count": 1,
   "metadata": {},
   "outputs": [],
   "source": [
    "class Node:\n",
    "    def __init__(self, data):\n",
    "        self.data=data\n",
    "        self.next=None\n",
    "        \n",
    "class Stack:\n",
    "    def __init__(self):\n",
    "        self.head=None\n",
    "        \n",
    "    def push(self,data):\n",
    "        new_node=Node(data)\n",
    "        new_node.next=self.head\n",
    "        self.head=new_node\n",
    "        \n",
    "    def pop(self):\n",
    "        if self.is_empty():\n",
    "            return False\n",
    "        data=self.head=self.head.next\n",
    "        return data\n",
    "    \n",
    "    def is_empty(self):\n",
    "        if self.head:\n",
    "            return False\n",
    "        else:\n",
    "            return True\n",
    "        \n",
    "    def peek(self):\n",
    "        if self.is_empty():\n",
    "            return False\n",
    "        else:\n",
    "            return self.head.data\n",
    "        "
   ]
  },
  {
   "cell_type": "code",
   "execution_count": 2,
   "metadata": {},
   "outputs": [
    {
     "name": "stdout",
     "output_type": "stream",
     "text": [
      "3\n",
      "<__main__.Node object at 0x00000260704DD248>\n",
      "<__main__.Node object at 0x00000260704DBE48>\n"
     ]
    }
   ],
   "source": [
    "if __name__=='__main__':\n",
    "    s=Stack()\n",
    "    s.push(1)\n",
    "    s.push(2)\n",
    "    s.push(3)\n",
    "    \n",
    "    print(s.peek())\n",
    "    print(s.pop())\n",
    "    print(s.pop())"
   ]
  },
  {
   "cell_type": "code",
   "execution_count": null,
   "metadata": {},
   "outputs": [],
   "source": []
  },
  {
   "cell_type": "markdown",
   "metadata": {},
   "source": [
    "# 큐"
   ]
  },
  {
   "cell_type": "markdown",
   "metadata": {},
   "source": [
    "## 리스트\n",
    "------------\n",
    "- enqueue는 o(1) 추가는 그냥 맨 뒤에 어팬드\n",
    "- dequeue는 o(N) 첫번째 원소를 삭제할 경우 두번째부터 마지막 원소를 왼쪽으로 한칸씩 옮겨야 함"
   ]
  },
  {
   "cell_type": "code",
   "execution_count": 18,
   "metadata": {},
   "outputs": [],
   "source": [
    "class Queue:\n",
    "    def __init__(self):\n",
    "        self.container = []\n",
    "        self.count = 0\n",
    "    \n",
    "    def push(self, value):\n",
    "        self.container.append(value)\n",
    "        self.count += 1\n",
    "    \n",
    "    def pop(self):\n",
    "        if self.count == 0:\n",
    "            return -1\n",
    "        self.count -= 1\n",
    "        return self.container.pop(0)\n",
    "        \n",
    "    def size(self):\n",
    "        return self.count\n",
    "    \n",
    "    def empty(self):\n",
    "        if self.size() == 0:\n",
    "            return 1\n",
    "        return 0\n",
    "    \n",
    "    def front(self):\n",
    "        if self.empty():\n",
    "            return -1\n",
    "        return self.container[0]\n",
    "    \n",
    "    def back(self):\n",
    "        if self.empty():\n",
    "            return -1\n",
    "        return self.container[-1]"
   ]
  },
  {
   "cell_type": "code",
   "execution_count": 21,
   "metadata": {},
   "outputs": [
    {
     "ename": "ValueError",
     "evalue": "invalid literal for int() with base 10: ''",
     "output_type": "error",
     "traceback": [
      "\u001b[1;31m---------------------------------------------------------------------------\u001b[0m",
      "\u001b[1;31mValueError\u001b[0m                                Traceback (most recent call last)",
      "\u001b[1;32m<ipython-input-21-2743e75c2b0b>\u001b[0m in \u001b[0;36m<module>\u001b[1;34m\u001b[0m\n\u001b[0;32m      2\u001b[0m \u001b[0mqueue\u001b[0m \u001b[1;33m=\u001b[0m \u001b[0mQueue\u001b[0m\u001b[1;33m(\u001b[0m\u001b[1;33m)\u001b[0m\u001b[1;33m\u001b[0m\u001b[1;33m\u001b[0m\u001b[0m\n\u001b[0;32m      3\u001b[0m \u001b[1;31m#n = int(input())\u001b[0m\u001b[1;33m\u001b[0m\u001b[1;33m\u001b[0m\u001b[1;33m\u001b[0m\u001b[0m\n\u001b[1;32m----> 4\u001b[1;33m \u001b[0mn\u001b[0m \u001b[1;33m=\u001b[0m \u001b[0mint\u001b[0m\u001b[1;33m(\u001b[0m\u001b[0msys\u001b[0m\u001b[1;33m.\u001b[0m\u001b[0mstdin\u001b[0m\u001b[1;33m.\u001b[0m\u001b[0mreadline\u001b[0m\u001b[1;33m(\u001b[0m\u001b[1;33m)\u001b[0m\u001b[1;33m)\u001b[0m\u001b[1;33m\u001b[0m\u001b[1;33m\u001b[0m\u001b[0m\n\u001b[0m\u001b[0;32m      5\u001b[0m \u001b[1;32mfor\u001b[0m \u001b[0m_\u001b[0m \u001b[1;32min\u001b[0m \u001b[0mrange\u001b[0m\u001b[1;33m(\u001b[0m\u001b[0mn\u001b[0m\u001b[1;33m)\u001b[0m\u001b[1;33m:\u001b[0m\u001b[1;33m\u001b[0m\u001b[1;33m\u001b[0m\u001b[0m\n\u001b[0;32m      6\u001b[0m     \u001b[0mc\u001b[0m \u001b[1;33m=\u001b[0m \u001b[0minput\u001b[0m\u001b[1;33m(\u001b[0m\u001b[1;33m)\u001b[0m\u001b[1;33m.\u001b[0m\u001b[0msplit\u001b[0m\u001b[1;33m(\u001b[0m\u001b[1;33m)\u001b[0m\u001b[1;33m\u001b[0m\u001b[1;33m\u001b[0m\u001b[0m\n",
      "\u001b[1;31mValueError\u001b[0m: invalid literal for int() with base 10: ''"
     ]
    }
   ],
   "source": [
    "import sys\n",
    "queue = Queue()\n",
    "#n = int(input())\n",
    "n = int(sys.stdin.readline())\n",
    "for _ in range(n):\n",
    "    c = input().split()\n",
    "    #c = sys.stdin.readline().split()\n",
    "    if c[0] == 'push':\n",
    "        queue.push(c[1])\n",
    "    elif c[0] == 'pop':\n",
    "        print(queue.pop())\n",
    "    elif c[0] == 'size':\n",
    "        print(queue.size())\n",
    "    elif c[0] == 'empty':\n",
    "        print(queue.empty())\n",
    "    elif c[0] == 'front':\n",
    "        print(queue.front())\n",
    "    elif c[0] == 'back':\n",
    "        print(queue.back())"
   ]
  },
  {
   "cell_type": "code",
   "execution_count": 4,
   "metadata": {},
   "outputs": [
    {
     "name": "stdout",
     "output_type": "stream",
     "text": [
      "[1, 2]\n"
     ]
    }
   ],
   "source": [
    "class ListQueue(object):\n",
    "    def __init__(self):\n",
    "        self.queue=[]\n",
    "    \n",
    "    def dequeue(self):\n",
    "        if len(self.queue)==0:\n",
    "            return False\n",
    "        else:\n",
    "            return self.queue.pop(0)\n",
    "        \n",
    "    def enqueue(self,n):\n",
    "        self.queue.append(n)\n",
    "        pass #이건 왜 넣어주는거?\n",
    "    \n",
    "    def printQueue(self):\n",
    "        print(self.queue)\n",
    "        \n",
    "if __name__=='__main__':\n",
    "    lq=ListQueue()\n",
    "    lq.enqueue(1)\n",
    "    lq.enqueue(2)\n",
    "    lq.printQueue()"
   ]
  },
  {
   "cell_type": "code",
   "execution_count": 5,
   "metadata": {},
   "outputs": [
    {
     "name": "stdout",
     "output_type": "stream",
     "text": [
      "1\n",
      "[2]\n"
     ]
    }
   ],
   "source": [
    "print(lq.dequeue())\n",
    "lq.printQueue()"
   ]
  },
  {
   "cell_type": "markdown",
   "metadata": {},
   "source": [
    "## 링크드 리스트\n",
    "------------\n",
    "- dequeue시 원소 이동 한계 극복"
   ]
  },
  {
   "cell_type": "code",
   "execution_count": 10,
   "metadata": {},
   "outputs": [],
   "source": [
    "class Node(object):\n",
    "    def __init__(self, data):\n",
    "        self.data=data\n",
    "        self.next=None\n",
    "        \n",
    "class SinglyLinkedList(object):\n",
    "    def __init__(self):\n",
    "        self.head=None\n",
    "        self.tail=None\n",
    "        \n",
    "    def enqueue(self, node):\n",
    "        if self.head==None:\n",
    "            self.head=node\n",
    "            self.tail=node\n",
    "        else:\n",
    "            self.tail.next=node\n",
    "            self.tail=self.tail.next\n",
    "            \n",
    "    def dequeue(self):\n",
    "        if self.head==None:\n",
    "            return False\n",
    "        else:\n",
    "            v=self.head.data\n",
    "            self.head=self.head.next\n",
    "\n",
    "        if self.head==None:\n",
    "            self.tail=None\n",
    "        return v\n",
    "\n",
    "    def printQ(self):\n",
    "        curn=self.head\n",
    "        string=''\n",
    "        while curn:\n",
    "            string+=str(curn.data)\n",
    "            if curn.next:\n",
    "                string+='->'\n",
    "            curn=curn.next\n",
    "        print(string)"
   ]
  },
  {
   "cell_type": "code",
   "execution_count": 12,
   "metadata": {},
   "outputs": [
    {
     "name": "stdout",
     "output_type": "stream",
     "text": [
      "1->2->13\n",
      "1\n",
      "2\n",
      "13\n"
     ]
    }
   ],
   "source": [
    "if __name__=='__main__':\n",
    "    s=SinglyLinkedList()\n",
    "    s.enqueue(Node(1))\n",
    "    s.enqueue(Node(2))\n",
    "    s.enqueue(Node(13))\n",
    "    s.printQ()\n",
    "    \n",
    "    print(s.dequeue())\n",
    "    print(s.dequeue())\n",
    "    s.printQ()"
   ]
  },
  {
   "cell_type": "markdown",
   "metadata": {},
   "source": [
    "## 원형 큐\n",
    "---------\n",
    "- 리스트를 활용할때 큐의 한계 극복\n",
    "- 주어진 공간만을 활용\n",
    "- 하지만 처음 생성한 리스트 크기 기준 돌아서 사용하지 않는 공간에 대한 낭비 발생\n",
    "https://daimhada.tistory.com/168?category=820522"
   ]
  },
  {
   "cell_type": "markdown",
   "metadata": {},
   "source": [
    "### 리스트"
   ]
  },
  {
   "cell_type": "code",
   "execution_count": 2,
   "metadata": {},
   "outputs": [],
   "source": [
    "class CircularQueue():\n",
    "    def __init__(self,max=5):\n",
    "        self.max=max\n",
    "        self.queue=[None]*self.max\n",
    "        self.size=self.front=0\n",
    "        self.rear=None\n",
    "        \n",
    "    def is_empty(self):\n",
    "        return self.size==0\n",
    "    \n",
    "    def is_full(self):\n",
    "        if self.rear==None:\n",
    "            return False\n",
    "        else:\n",
    "            return self.next_index(self.rear)==self.front\n",
    "        \n",
    "    def next_index(self, idx):\n",
    "        return (idx+1)%self.max\n",
    "    \n",
    "    def enqueue(self, data):\n",
    "        if self.is_full():\n",
    "            raise Exception('Queue is Full')\n",
    "            \n",
    "        #시작 인덱스 0\n",
    "        if self.rear==None:\n",
    "            self.rear==0\n",
    "        else:\n",
    "            self.rear=self.next_index(self.rear)\n",
    "            \n",
    "        self.queue[self.rear]=data\n",
    "        self.size+=1\n",
    "        return self.queue[self.rear]\n",
    "    \n",
    "    def deque(self):\n",
    "        if self.is_empty():\n",
    "            raise Exception('queue is empty')\n",
    "        self.queue[self.front]=None\n",
    "        self.front=self.next_index(self.front)\n",
    "        return self.queue[self.front]\n",
    "    \n",
    "    def display(self):\n",
    "        print(self.queue)\n",
    "    "
   ]
  },
  {
   "cell_type": "code",
   "execution_count": 9,
   "metadata": {},
   "outputs": [
    {
     "name": "stdout",
     "output_type": "stream",
     "text": [
      "[None, None, None, None, None]\n"
     ]
    },
    {
     "ename": "TypeError",
     "evalue": "list indices must be integers or slices, not NoneType",
     "output_type": "error",
     "traceback": [
      "\u001b[1;31m---------------------------------------------------------------------------\u001b[0m",
      "\u001b[1;31mTypeError\u001b[0m                                 Traceback (most recent call last)",
      "\u001b[1;32m<ipython-input-9-d16352e808a8>\u001b[0m in \u001b[0;36m<module>\u001b[1;34m\u001b[0m\n\u001b[0;32m      3\u001b[0m     \u001b[0mcq\u001b[0m\u001b[1;33m.\u001b[0m\u001b[0mdisplay\u001b[0m\u001b[1;33m(\u001b[0m\u001b[1;33m)\u001b[0m\u001b[1;33m\u001b[0m\u001b[1;33m\u001b[0m\u001b[0m\n\u001b[0;32m      4\u001b[0m \u001b[1;33m\u001b[0m\u001b[0m\n\u001b[1;32m----> 5\u001b[1;33m     \u001b[0mcq\u001b[0m\u001b[1;33m.\u001b[0m\u001b[0menqueue\u001b[0m\u001b[1;33m(\u001b[0m\u001b[1;36m1\u001b[0m\u001b[1;33m)\u001b[0m\u001b[1;33m\u001b[0m\u001b[1;33m\u001b[0m\u001b[0m\n\u001b[0m\u001b[0;32m      6\u001b[0m     \u001b[0mcq\u001b[0m\u001b[1;33m.\u001b[0m\u001b[0menqueue\u001b[0m\u001b[1;33m(\u001b[0m\u001b[1;36m1\u001b[0m\u001b[1;33m)\u001b[0m\u001b[1;33m\u001b[0m\u001b[1;33m\u001b[0m\u001b[0m\n\u001b[0;32m      7\u001b[0m     \u001b[0mcq\u001b[0m\u001b[1;33m.\u001b[0m\u001b[0menqueue\u001b[0m\u001b[1;33m(\u001b[0m\u001b[1;36m1\u001b[0m\u001b[1;33m)\u001b[0m\u001b[1;33m\u001b[0m\u001b[1;33m\u001b[0m\u001b[0m\n",
      "\u001b[1;32m<ipython-input-2-f9146cd69d87>\u001b[0m in \u001b[0;36menqueue\u001b[1;34m(self, data)\u001b[0m\n\u001b[0;32m     28\u001b[0m             \u001b[0mself\u001b[0m\u001b[1;33m.\u001b[0m\u001b[0mrear\u001b[0m\u001b[1;33m=\u001b[0m\u001b[0mself\u001b[0m\u001b[1;33m.\u001b[0m\u001b[0mnext_index\u001b[0m\u001b[1;33m(\u001b[0m\u001b[0mself\u001b[0m\u001b[1;33m.\u001b[0m\u001b[0mrear\u001b[0m\u001b[1;33m)\u001b[0m\u001b[1;33m\u001b[0m\u001b[1;33m\u001b[0m\u001b[0m\n\u001b[0;32m     29\u001b[0m \u001b[1;33m\u001b[0m\u001b[0m\n\u001b[1;32m---> 30\u001b[1;33m         \u001b[0mself\u001b[0m\u001b[1;33m.\u001b[0m\u001b[0mqueue\u001b[0m\u001b[1;33m[\u001b[0m\u001b[0mself\u001b[0m\u001b[1;33m.\u001b[0m\u001b[0mrear\u001b[0m\u001b[1;33m]\u001b[0m\u001b[1;33m=\u001b[0m\u001b[0mdata\u001b[0m\u001b[1;33m\u001b[0m\u001b[1;33m\u001b[0m\u001b[0m\n\u001b[0m\u001b[0;32m     31\u001b[0m         \u001b[0mself\u001b[0m\u001b[1;33m.\u001b[0m\u001b[0msize\u001b[0m\u001b[1;33m+=\u001b[0m\u001b[1;36m1\u001b[0m\u001b[1;33m\u001b[0m\u001b[1;33m\u001b[0m\u001b[0m\n\u001b[0;32m     32\u001b[0m         \u001b[1;32mreturn\u001b[0m \u001b[0mself\u001b[0m\u001b[1;33m.\u001b[0m\u001b[0mqueue\u001b[0m\u001b[1;33m[\u001b[0m\u001b[0mself\u001b[0m\u001b[1;33m.\u001b[0m\u001b[0mrear\u001b[0m\u001b[1;33m]\u001b[0m\u001b[1;33m\u001b[0m\u001b[1;33m\u001b[0m\u001b[0m\n",
      "\u001b[1;31mTypeError\u001b[0m: list indices must be integers or slices, not NoneType"
     ]
    }
   ],
   "source": [
    "if __name__=='__main__':\n",
    "    cq=CircularQueue()\n",
    "    cq.display()\n",
    "\n",
    "    cq.enqueue(1)\n",
    "    cq.enqueue(1)\n",
    "    cq.enqueue(1)\n",
    "    cq.enqueue(1)\n",
    "    cq.display()"
   ]
  },
  {
   "cell_type": "markdown",
   "metadata": {},
   "source": [
    "## priority queue\n",
    "------------\n",
    "- 각 원소에 우선순위 값 있음(낮을수록 우선)\n",
    "- 우선순위가 높은 원소 먼저 나감\n"
   ]
  },
  {
   "cell_type": "markdown",
   "metadata": {},
   "source": [
    "### heapq 모듈 사용\n",
    "- 우선순위가 같은 원소는 순서보존\n",
    "- 우선순위 정렬"
   ]
  },
  {
   "cell_type": "code",
   "execution_count": 14,
   "metadata": {},
   "outputs": [],
   "source": [
    "import heapq\n",
    "\n",
    "class PriorityQ():\n",
    "    def __init__(self):\n",
    "        self.queue=[]\n",
    "        self.count=0\n",
    "        \n",
    "    def enQ(self,priority,v):\n",
    "        self.count+=1\n",
    "        heapq.heappush(self.queue,(priority,self.count,v))\n",
    "        \n",
    "    def deQ(self):\n",
    "        heapq.heappop(self.queue)\n",
    "        \n",
    "    def display(self):\n",
    "        print(self.queue)\n",
    "    "
   ]
  },
  {
   "cell_type": "code",
   "execution_count": 15,
   "metadata": {},
   "outputs": [
    {
     "name": "stdout",
     "output_type": "stream",
     "text": [
      "None\n",
      "None\n",
      "None\n",
      "None\n",
      "[(1, 1, 'test1'), (2, 2, 'test2'), (3, 3, 'test3'), (4, 4, 'test4')]\n"
     ]
    }
   ],
   "source": [
    "if __name__=='__main__':\n",
    "    pq=PriorityQ()\n",
    "    print(pq.enQ(1,'test1'))\n",
    "    print(pq.enQ(2,'test2'))\n",
    "    print(pq.enQ(3,'test3'))\n",
    "    print(pq.enQ(4,'test4'))\n",
    "    pq.display()"
   ]
  },
  {
   "cell_type": "code",
   "execution_count": null,
   "metadata": {},
   "outputs": [],
   "source": []
  },
  {
   "cell_type": "markdown",
   "metadata": {},
   "source": [
    "# heap\n",
    "------------------\n",
    "- 최댓값 및 최솟값을 찾아내는 연산을 빠르게 하기 위해 고안된 완전이진트리 기본\n",
    "- 최대 힙: 부모 노드의 키값이 자식 노드의 키값보다 항상 큰 힙\n",
    "- 최소 힙: 부모노드의 키값이 자식 노드의 키 값보다 항상 작은 힙\n"
   ]
  },
  {
   "cell_type": "markdown",
   "metadata": {},
   "source": [
    "## 리스트\n",
    "-------------\n",
    "- 왼쪽:2i+1\n",
    "- 오른쪽:2i+2\n",
    "- 부모:(i-1/2)"
   ]
  },
  {
   "cell_type": "code",
   "execution_count": 7,
   "metadata": {},
   "outputs": [],
   "source": [
    "class MaxHeap(object):\n",
    "    def __init__(self):\n",
    "        self.queue=[]\n",
    "        \n",
    "    def insert(self,n):\n",
    "        #맨 마지막 삽입 원소 임시 추가\n",
    "        self.queue.append(n)\n",
    "        last_index=len(self.queue)-1\n",
    "        #부모 올라가면서 크기 비료\n",
    "        while \n",
    "        0<= last_index:\n",
    "            parent_index=self.parent(last_index)\n",
    "            if 0<=parent_index and self.queue[parent_index]<self.queue[last_index]:\n",
    "                self.swap(last_index,parent_index)\n",
    "                last_index=parent_index\n",
    "            else:\n",
    "                break\n",
    "                \n",
    "    def delete(self):\n",
    "        last_index=len(self.queue)-1\n",
    "        if last_index<0:\n",
    "            return -1\n",
    "        self.swap(0,last_index)\n",
    "        maxv=self.queue.pop()\n",
    "        self.maxHeapify(0)\n",
    "        print(maxv)\n",
    "        return maxv\n",
    "    \n",
    "    #임시 루트값부터 자식들과 비교하며 재정렬\n",
    "    def maxHeapify(self,i):\n",
    "        left_index=self.leftchild(i)\n",
    "        right_index=self.rightchild(i)\n",
    "        max_index=i\n",
    "        \n",
    "        if left_index<=len(self.queue)-1 and self.queue[max_index]<self.queue[left_index]:\n",
    "            max_index=left_index\n",
    "        if right_index<=len(self.queue)-1 and self.queue[max_index]<self.queue[right_index]:\n",
    "            max_index=right_index\n",
    "            \n",
    "        #자신이 가장 큰게 아니면 heapify\n",
    "        if max_index!=i:\n",
    "            self.swap(i,max_index)\n",
    "            self.maxHeapify(max_index)\n",
    "            \n",
    "    def swap(self, i, parent_index):\n",
    "        self.queue[i],self.queue[parent_index]=self.queue[parent_index],self.queue[i]\n",
    "        \n",
    "    def parent(Self,index):\n",
    "        return (index -1)//2\n",
    "    \n",
    "    def leftchild(self,index):\n",
    "        return index*2+1\n",
    "    \n",
    "    def rightchild(Self,index):\n",
    "        return index*2+2\n",
    "    \n",
    "    def printHeap(self):\n",
    "        print(self.queue)\n",
    "        \n",
    "    "
   ]
  },
  {
   "cell_type": "code",
   "execution_count": 9,
   "metadata": {},
   "outputs": [
    {
     "name": "stdout",
     "output_type": "stream",
     "text": [
      "[2, 1]\n",
      "2\n",
      "[1]\n"
     ]
    }
   ],
   "source": [
    "if __name__=='__main__':\n",
    "    mh=MaxHeap()\n",
    "    mh.insert(1)\n",
    "    mh.insert(2)\n",
    "    \n",
    "    mh.printHeap()\n",
    "    \n",
    "    mh.delete()\n",
    "    mh.printHeap()"
   ]
  },
  {
   "cell_type": "markdown",
   "metadata": {},
   "source": [
    "# 연습 코드"
   ]
  },
  {
   "cell_type": "code",
   "execution_count": 2,
   "metadata": {},
   "outputs": [
    {
     "data": {
      "text/plain": [
       "'gnirts siht esrever'"
      ]
     },
     "execution_count": 2,
     "metadata": {},
     "output_type": "execute_result"
    }
   ],
   "source": [
    "s='reverse this string'\n",
    "s=s[::-1]\n",
    "s"
   ]
  },
  {
   "cell_type": "code",
   "execution_count": 5,
   "metadata": {},
   "outputs": [
    {
     "name": "stdout",
     "output_type": "stream",
     "text": [
      "reverse this string\n"
     ]
    }
   ],
   "source": [
    "print(''.join(reversed(s)))"
   ]
  },
  {
   "cell_type": "code",
   "execution_count": 6,
   "metadata": {},
   "outputs": [
    {
     "data": {
      "text/plain": [
       "[5, 13]"
      ]
     },
     "execution_count": 6,
     "metadata": {},
     "output_type": "execute_result"
    }
   ],
   "source": [
    "a = [ 1, 3, 5, 7, 9, 13, 15 ] \n",
    "b = [ 4, 5, 6, 8, 13 ] \n",
    "c = [ 5, 8, 13, 19 ]\n",
    "\n",
    "answer=[]\n",
    "for i in range(len(a)):\n",
    "    if (a[i]in b) and (a[i]in c):\n",
    "        answer.append(a[i])\n",
    "answer"
   ]
  },
  {
   "cell_type": "code",
   "execution_count": null,
   "metadata": {},
   "outputs": [],
   "source": []
  },
  {
   "cell_type": "code",
   "execution_count": null,
   "metadata": {},
   "outputs": [],
   "source": []
  },
  {
   "cell_type": "code",
   "execution_count": null,
   "metadata": {},
   "outputs": [],
   "source": []
  },
  {
   "cell_type": "code",
   "execution_count": null,
   "metadata": {},
   "outputs": [],
   "source": []
  },
  {
   "cell_type": "code",
   "execution_count": null,
   "metadata": {},
   "outputs": [],
   "source": []
  },
  {
   "cell_type": "code",
   "execution_count": null,
   "metadata": {},
   "outputs": [],
   "source": []
  },
  {
   "cell_type": "code",
   "execution_count": null,
   "metadata": {},
   "outputs": [],
   "source": []
  }
 ],
 "metadata": {
  "kernelspec": {
   "display_name": "Python 3",
   "language": "python",
   "name": "python3"
  },
  "language_info": {
   "codemirror_mode": {
    "name": "ipython",
    "version": 3
   },
   "file_extension": ".py",
   "mimetype": "text/x-python",
   "name": "python",
   "nbconvert_exporter": "python",
   "pygments_lexer": "ipython3",
   "version": "3.7.6"
  },
  "toc": {
   "base_numbering": 1,
   "nav_menu": {},
   "number_sections": true,
   "sideBar": true,
   "skip_h1_title": false,
   "title_cell": "Table of Contents",
   "title_sidebar": "Contents",
   "toc_cell": false,
   "toc_position": {},
   "toc_section_display": true,
   "toc_window_display": false
  }
 },
 "nbformat": 4,
 "nbformat_minor": 4
}
