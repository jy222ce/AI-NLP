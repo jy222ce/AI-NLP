{
 "cells": [
  {
   "cell_type": "code",
   "execution_count": 1,
   "metadata": {},
   "outputs": [],
   "source": [
    "import tensorflow as tf"
   ]
  },
  {
   "cell_type": "code",
   "execution_count": null,
   "metadata": {},
   "outputs": [],
   "source": [
    "x=tf.constant([[1.0,2.0,3.0]])\n",
    "w=tf.constant([[2.0],[2.0],[2.0]])\n",
    "y=tf.matmul(x,w)\n",
    "print(x.get_shape())\n",
    "print(w.get_shape())\n",
    "print(y.get_shape())\n",
    "print(y)\n",
    "\n",
    "#세션에 텐서를 넣고 돌려야함\n",
    "sess=tf.Session()\n",
    "init=tf.global_variables_initializer()\n",
    "sess.run(init)\n",
    "\n",
    "result=sess.run(y)\n",
    "print(result)"
   ]
  },
  {
   "cell_type": "markdown",
   "metadata": {},
   "source": [
    "# 경사 하강법\n",
    "\n",
    "--------\n",
    "- 기울기를 변화시키면서 최소값을 찾는것\n",
    "- 학습률(learning rate): 어느 만큼 이동시킬지를 정해주는 것\n",
    "- https://bskyvision.com/411"
   ]
  },
  {
   "cell_type": "markdown",
   "metadata": {},
   "source": [
    "# 텐서플로우\n",
    "----------\n",
    "- 텐서를 흘려 보내면서 데이터를 처리하는 라이브러리\n",
    "- 인공지능의 대부분 데이터는 행렬 형태임. 하지만 텐서 안에는 객체와 같은 역할을 하는 메소드가 존재함"
   ]
  },
  {
   "cell_type": "markdown",
   "metadata": {},
   "source": [
    "- 노드: operation\n",
    "- 엣지: tensor\n",
    "- 그래프에 operation을 추가하고, operation 간에 tensor를 전달.\n",
    "- 할당과 연산이 별개임"
   ]
  },
  {
   "cell_type": "markdown",
   "metadata": {},
   "source": [
    "- 텐서는 Rank, Shape, Type 세 가지 구성요소를 가지고 있음\n",
    "- rank: 텐서의 차원 (랭크가 0이라면 스칼라/1이라면 벡터/2라면 행렬/3이상이면 n-tensor 또는 n차원 텐서)\n",
    "- shape: 텐서가 몇 개의 행과 열을 가지는지\n",
    "- type: 텐서가 담을 수 있는 데이터의 타입 (tf.float32, tf.float32)\n",
    "\n",
    "- 텐서플로 자료형\n",
    "    - tf.constant: 변하지 않는 수를 지정하는 자료형\n",
    "    - tf.Placeholder: 먼저 만들고 값을 나중에 지정해주는 자료형\n",
    "    - tf.Variable: 조건에 따라 값을 바꿔야 하는 경우 사용하는 자료형"
   ]
  },
  {
   "cell_type": "code",
   "execution_count": null,
   "metadata": {},
   "outputs": [],
   "source": [
    "a=tf.constant(7.0,name='data1')\n",
    "b=tf.constant(3.0,name='data2')\n",
    "c=tf.constant(2.0,name='data3')\n",
    "\n",
    "v=a*b/c\n",
    "\n",
    "with tf.Session() as sess:\n",
    "    sess.run(tf.global_variables_initializer())#텐서 초기화\n",
    "    print(sess.run(v))\n",
    "    \n",
    "type(v)#a,b,c,v 모두 텐서 타입"
   ]
  },
  {
   "cell_type": "code",
   "execution_count": 2,
   "metadata": {},
   "outputs": [
    {
     "data": {
      "text/plain": [
       "[]"
      ]
     },
     "execution_count": 2,
     "metadata": {},
     "output_type": "execute_result"
    }
   ],
   "source": [
    "#위에 있는 세션 종료한 다음에 실행시켜야 빈 리스트 출력됨.\n",
    "#restart&clearoutput\n",
    "tf.get_default_graph().get_operations()"
   ]
  },
  {
   "cell_type": "code",
   "execution_count": 3,
   "metadata": {},
   "outputs": [
    {
     "data": {
      "text/plain": [
       "[<tf.Operation 'data1' type=Const>,\n",
       " <tf.Operation 'data2' type=Const>,\n",
       " <tf.Operation 'data3' type=Const>]"
      ]
     },
     "execution_count": 3,
     "metadata": {},
     "output_type": "execute_result"
    }
   ],
   "source": [
    "a=tf.constant(7.0,name='data1')\n",
    "b=tf.constant(3.0,name='data2')\n",
    "c=tf.constant(2.0,name='data3')\n",
    "\n",
    "tf.get_default_graph().get_operations()"
   ]
  },
  {
   "cell_type": "code",
   "execution_count": 4,
   "metadata": {},
   "outputs": [
    {
     "name": "stdout",
     "output_type": "stream",
     "text": [
      "Tensor(\"data1:0\", shape=(), dtype=float32)\n"
     ]
    }
   ],
   "source": [
    "print(a) #노드"
   ]
  },
  {
   "cell_type": "code",
   "execution_count": 5,
   "metadata": {},
   "outputs": [
    {
     "name": "stdout",
     "output_type": "stream",
     "text": [
      "name: \"data1\"\n",
      "op: \"Const\"\n",
      "attr {\n",
      "  key: \"dtype\"\n",
      "  value {\n",
      "    type: DT_FLOAT\n",
      "  }\n",
      "}\n",
      "attr {\n",
      "  key: \"value\"\n",
      "  value {\n",
      "    tensor {\n",
      "      dtype: DT_FLOAT\n",
      "      tensor_shape {\n",
      "      }\n",
      "      float_val: 7.0\n",
      "    }\n",
      "  }\n",
      "}\n",
      "\n"
     ]
    }
   ],
   "source": [
    "print(a.op) #엣지: 클래스 형태로 여러가지 객체 전부 가지고 있음"
   ]
  },
  {
   "cell_type": "code",
   "execution_count": 6,
   "metadata": {},
   "outputs": [
    {
     "name": "stdout",
     "output_type": "stream",
     "text": [
      "[<tf.Tensor 'data1:0' shape=() dtype=float32>]\n"
     ]
    }
   ],
   "source": [
    "print(a.op.outputs)"
   ]
  },
  {
   "cell_type": "code",
   "execution_count": 7,
   "metadata": {},
   "outputs": [
    {
     "name": "stdout",
     "output_type": "stream",
     "text": [
      "True\n"
     ]
    }
   ],
   "source": [
    "print(a is a.op.outputs[0])\n",
    "#a는 아웃풋의 0번째 객체를 의미함"
   ]
  },
  {
   "cell_type": "code",
   "execution_count": 8,
   "metadata": {},
   "outputs": [
    {
     "name": "stdout",
     "output_type": "stream",
     "text": [
      "7.0\n"
     ]
    }
   ],
   "source": [
    "print(a.op.node_def.attr['value'].tensor.float_val[0])"
   ]
  },
  {
   "cell_type": "code",
   "execution_count": 9,
   "metadata": {},
   "outputs": [
    {
     "data": {
      "text/plain": [
       "[<tf.Operation 'data1' type=Const>,\n",
       " <tf.Operation 'data2' type=Const>,\n",
       " <tf.Operation 'data3' type=Const>,\n",
       " <tf.Operation 'mul' type=Mul>,\n",
       " <tf.Operation 'truediv' type=RealDiv>]"
      ]
     },
     "execution_count": 9,
     "metadata": {},
     "output_type": "execute_result"
    }
   ],
   "source": [
    "v=a*b/c\n",
    "tf.get_default_graph().get_operations()"
   ]
  },
  {
   "cell_type": "code",
   "execution_count": 12,
   "metadata": {},
   "outputs": [
    {
     "name": "stdout",
     "output_type": "stream",
     "text": [
      "v.op.inputs <tensorflow.python.framework.ops.Operation._InputList object at 0x0000020055AF9808>\n"
     ]
    }
   ],
   "source": [
    "print('v.op.inputs',v.op.inputs)"
   ]
  },
  {
   "cell_type": "code",
   "execution_count": 13,
   "metadata": {},
   "outputs": [
    {
     "name": "stdout",
     "output_type": "stream",
     "text": [
      "v.op.inputs [<tf.Tensor 'truediv:0' shape=() dtype=float32>]\n"
     ]
    }
   ],
   "source": [
    "print('v.op.inputs',v.op.outputs)"
   ]
  },
  {
   "cell_type": "code",
   "execution_count": 11,
   "metadata": {},
   "outputs": [
    {
     "name": "stdout",
     "output_type": "stream",
     "text": [
      "True\n"
     ]
    }
   ],
   "source": [
    "print(v.op.outputs[0]is v)"
   ]
  },
  {
   "cell_type": "code",
   "execution_count": 14,
   "metadata": {},
   "outputs": [
    {
     "name": "stdout",
     "output_type": "stream",
     "text": [
      "name: \"truediv\"\n",
      "op: \"RealDiv\"\n",
      "input: \"mul\"\n",
      "input: \"data3\"\n",
      "attr {\n",
      "  key: \"T\"\n",
      "  value {\n",
      "    type: DT_FLOAT\n",
      "  }\n",
      "}\n",
      "\n"
     ]
    }
   ],
   "source": [
    "print(v.op)"
   ]
  },
  {
   "cell_type": "markdown",
   "metadata": {},
   "source": [
    "## 텐서 만들기\n",
    "- https://excelsior-cjh.tistory.com/151?category=940399"
   ]
  },
  {
   "cell_type": "code",
   "execution_count": 17,
   "metadata": {},
   "outputs": [
    {
     "data": {
      "text/plain": [
       "(<tf.Tensor 'Const_6:0' shape=() dtype=int32>,\n",
       " <tf.Tensor 'Const_7:0' shape=() dtype=int32>,\n",
       " <tf.Tensor 'Const_8:0' shape=() dtype=int32>,\n",
       " <tf.Tensor 'Mul_3:0' shape=() dtype=int32>,\n",
       " <tf.Tensor 'Add_2:0' shape=() dtype=int32>,\n",
       " <tf.Tensor 'Sub_2:0' shape=() dtype=int32>)"
      ]
     },
     "execution_count": 17,
     "metadata": {},
     "output_type": "execute_result"
    }
   ],
   "source": [
    "a=tf.constant(5)\n",
    "b=tf.constant(2)\n",
    "c=tf.constant(3)\n",
    "d=tf.multiply(a,b)\n",
    "e=tf.add(c,b)\n",
    "f=tf.subtract(d,e)\n",
    "\n",
    "a,b,c,d,e,f\n",
    "#모두 텐서로 출력됨\n",
    "#텐서를 만들었을 뿐 실행을 하지 않음\n",
    "#그래프를 정의했을 뿐이지 실제로 연산이 일어난 것은 아님\n",
    "#연산을 수행하기 위해서는 데이터를 넣어서 흐름(플로우)이 이루어지게 해야함(이러한 동작을 session이 수행)"
   ]
  },
  {
   "cell_type": "code",
   "execution_count": 18,
   "metadata": {},
   "outputs": [
    {
     "name": "stdout",
     "output_type": "stream",
     "text": [
      "outs= 5\n"
     ]
    }
   ],
   "source": [
    "#세션을 만들고 연산그래프 실행\n",
    "sess=tf.Session()\n",
    "outs=sess.run(f)\n",
    "sess.close()\n",
    "print('outs=',outs)"
   ]
  },
  {
   "cell_type": "code",
   "execution_count": 19,
   "metadata": {},
   "outputs": [
    {
     "name": "stdout",
     "output_type": "stream",
     "text": [
      "b'Hello, Tensoflow!'\n"
     ]
    }
   ],
   "source": [
    "#문자열이 들어있는 node 생성\n",
    "hello=tf.constant('Hello, Tensoflow!')\n",
    "#tf세션 시작\n",
    "sess=tf.Session()\n",
    "#특정 노드 세션 run\n",
    "print(sess.run(hello))"
   ]
  },
  {
   "cell_type": "markdown",
   "metadata": {},
   "source": [
    "## placeholder&feed_dict"
   ]
  },
  {
   "cell_type": "code",
   "execution_count": 23,
   "metadata": {},
   "outputs": [
    {
     "name": "stdout",
     "output_type": "stream",
     "text": [
      "53.0\n"
     ]
    }
   ],
   "source": [
    "#p_holder1=tf.placeholder(dtype=tf.float32)\n",
    "#p_holder2=tf.placeholder(dtype=tf.float32)\n",
    "#p_holder3=tf.placeholder(dtype=tf.float32)\n",
    "\n",
    "val1=5\n",
    "val2=10\n",
    "val3=3\n",
    "ret_val=p_holder1*p_holder2+p_holder3\n",
    "\n",
    "feed_dict_data={p_holder1:val1,p_holder2:val2,p_holder3:val3}\n",
    "\n",
    "result=sess.run(ret_val, feed_dict=feed_dict_data)\n",
    "\n",
    "print(result)"
   ]
  },
  {
   "cell_type": "code",
   "execution_count": 24,
   "metadata": {},
   "outputs": [
    {
     "name": "stdout",
     "output_type": "stream",
     "text": [
      "[[30. 30.]\n",
      " [70. 70.]]\n"
     ]
    }
   ],
   "source": [
    "I=tf.placeholder(tf.float32,[2,4])\n",
    "i=[[1,2,3,4],[5,6,7,8,]]\n",
    "\n",
    "W=tf.placeholder(tf.float32,[4,2])\n",
    "w=[[1,1],[2,2],[3,3],[4,4]]\n",
    "\n",
    "#input data와 weight을 행렬곱 수행\n",
    "node=tf.matmul(I,W)\n",
    "\n",
    "sess=tf.Session()\n",
    "\n",
    "print(sess.run(node,feed_dict={I:i,W:w}))\n",
    "sess.close()"
   ]
  },
  {
   "cell_type": "code",
   "execution_count": 25,
   "metadata": {},
   "outputs": [
    {
     "name": "stdout",
     "output_type": "stream",
     "text": [
      "[[30 30]\n",
      " [70 70]]\n"
     ]
    }
   ],
   "source": [
    "I=tf.Variable([[1,2,3,4],[5,6,7,8]],tf.float32)\n",
    "W=tf.Variable([[1,1],[2,2],[3,3],[4,4]],tf.float32)\n",
    "\n",
    "node=tf.matmul(I,W)\n",
    "\n",
    "sess=tf.Session()\n",
    "sess.run(tf.global_variables_initializer())\n",
    "\n",
    "print(sess.run(node))\n",
    "\n",
    "sess.close()"
   ]
  },
  {
   "cell_type": "code",
   "execution_count": 28,
   "metadata": {},
   "outputs": [
    {
     "name": "stdout",
     "output_type": "stream",
     "text": [
      "<tf.Variable 'Variable_4:0' shape=() dtype=int32_ref>\n",
      "7\n"
     ]
    }
   ],
   "source": [
    "x=tf.Variable(5,dtype=tf.int32)\n",
    "print(x)\n",
    "\n",
    "x=tf.assign(x,7)\n",
    "z=tf.initialize_all_variables()\n",
    "sess=tf.Session()\n",
    "sess.run(z)\n",
    "y=sess.run(x)\n",
    "print(y)"
   ]
  },
  {
   "cell_type": "code",
   "execution_count": 30,
   "metadata": {},
   "outputs": [
    {
     "name": "stdout",
     "output_type": "stream",
     "text": [
      "<tf.Variable 'Variable_6:0' shape=() dtype=int32_ref>\n",
      "7\n"
     ]
    }
   ],
   "source": [
    "x=tf.Variable(5,dtype=tf.int32)\n",
    "print(x)\n",
    "\n",
    "z=tf.assign(x,7)\n",
    "tf.global_variables_initializer()\n",
    "\n",
    "sess=tf.Session()\n",
    "sess.run(z)\n",
    "y=sess.run(x)\n",
    "print(y)"
   ]
  },
  {
   "cell_type": "markdown",
   "metadata": {},
   "source": [
    "# 경사하강법"
   ]
  },
  {
   "cell_type": "code",
   "execution_count": 35,
   "metadata": {},
   "outputs": [],
   "source": [
    "data=[[2,81],[4,93],[6,91],[8,97]]\n",
    "x_data=[x_row[0] for x_row in data]\n",
    "y_data=[y_row[1] for y_row in data]\n",
    "\n",
    "#기울기 a와 y절편 b의 값을 임의로 정한다\n",
    "#단, 기울기의 범위는 0~10 사이이며, y절편은 0~100사이에서 변하게 된다\n",
    "a=tf.Variable(tf.random_uniform([1],0,10,dtype=tf.float64,seed=0))\n",
    "b=tf.Variable(tf.random_uniform([1],0,100,dtype=tf.float64,seed=0))\n",
    "\n",
    "y=a*x_data+b"
   ]
  },
  {
   "cell_type": "code",
   "execution_count": 36,
   "metadata": {},
   "outputs": [
    {
     "name": "stdout",
     "output_type": "stream",
     "text": [
      "Epoch:0, RMSE=30.2139, 기울기 a=7.5235, y절편 b=80.5984\n",
      "Epoch:100, RMSE=2.8860, 기울기 a=2.2299, y절편 b=79.4181\n",
      "Epoch:200, RMSE=2.8826, 기울기 a=2.2601, y절편 b=79.2379\n",
      "Epoch:300, RMSE=2.8815, 기울기 a=2.2773, y절편 b=79.1353\n",
      "Epoch:400, RMSE=2.8811, 기울기 a=2.2871, y절편 b=79.0770\n",
      "Epoch:500, RMSE=2.8810, 기울기 a=2.2927, y절편 b=79.0438\n",
      "Epoch:600, RMSE=2.8810, 기울기 a=2.2958, y절편 b=79.0249\n",
      "Epoch:700, RMSE=2.8810, 기울기 a=2.2976, y절편 b=79.0142\n",
      "Epoch:800, RMSE=2.8810, 기울기 a=2.2987, y절편 b=79.0081\n",
      "Epoch:900, RMSE=2.8810, 기울기 a=2.2992, y절편 b=79.0046\n",
      "Epoch:1000, RMSE=2.8810, 기울기 a=2.2996, y절편 b=79.0026\n",
      "Epoch:1100, RMSE=2.8810, 기울기 a=2.2998, y절편 b=79.0015\n",
      "Epoch:1200, RMSE=2.8810, 기울기 a=2.2999, y절편 b=79.0008\n",
      "Epoch:1300, RMSE=2.8810, 기울기 a=2.2999, y절편 b=79.0005\n",
      "Epoch:1400, RMSE=2.8810, 기울기 a=2.3000, y절편 b=79.0003\n",
      "Epoch:1500, RMSE=2.8810, 기울기 a=2.3000, y절편 b=79.0002\n",
      "Epoch:1600, RMSE=2.8810, 기울기 a=2.3000, y절편 b=79.0001\n",
      "Epoch:1700, RMSE=2.8810, 기울기 a=2.3000, y절편 b=79.0001\n",
      "Epoch:1800, RMSE=2.8810, 기울기 a=2.3000, y절편 b=79.0000\n",
      "Epoch:1900, RMSE=2.8810, 기울기 a=2.3000, y절편 b=79.0000\n",
      "Epoch:2000, RMSE=2.8810, 기울기 a=2.3000, y절편 b=79.0000\n"
     ]
    }
   ],
   "source": [
    "#텐서플로 RMSE 함수\n",
    "rmse=tf.sqrt(tf.reduce_mean(tf.square(y-y_data)))\n",
    "\n",
    "#학습률 값\n",
    "learning_rate=0.1\n",
    "\n",
    "#RMSE 값을 최소로 하는 값 찾기\n",
    "gradient_decent=tf.train.GradientDescentOptimizer(learning_rate).minimize(rmse)\n",
    "\n",
    "#텐서플로를 이용한 학습\n",
    "with tf.Session() as sess:\n",
    "    #변수 초기화\n",
    "    sess.run(tf.global_variables_initializer())\n",
    "    \n",
    "    for step in range(2001):\n",
    "        sess.run(gradient_decent)\n",
    "        #100번마다 결과 출력\n",
    "        if step%100==0:\n",
    "            print('Epoch:%.f, RㄴMSE=%.04f, 기울기 a=%.4f, y절편 b=%.4f'\n",
    "                  %(step,sess.run(rmse),sess.run(a),sess.run(b)))\n",
    "#epoch: 몇번 반복했는지"
   ]
  },
  {
   "cell_type": "markdown",
   "metadata": {},
   "source": []
  },
  {
   "cell_type": "code",
   "execution_count": null,
   "metadata": {},
   "outputs": [],
   "source": []
  },
  {
   "cell_type": "code",
   "execution_count": null,
   "metadata": {},
   "outputs": [],
   "source": []
  },
  {
   "cell_type": "code",
   "execution_count": null,
   "metadata": {},
   "outputs": [],
   "source": []
  },
  {
   "cell_type": "code",
   "execution_count": null,
   "metadata": {},
   "outputs": [],
   "source": []
  },
  {
   "cell_type": "code",
   "execution_count": null,
   "metadata": {},
   "outputs": [],
   "source": []
  },
  {
   "cell_type": "code",
   "execution_count": null,
   "metadata": {},
   "outputs": [],
   "source": []
  },
  {
   "cell_type": "code",
   "execution_count": null,
   "metadata": {},
   "outputs": [],
   "source": []
  },
  {
   "cell_type": "code",
   "execution_count": null,
   "metadata": {},
   "outputs": [],
   "source": []
  },
  {
   "cell_type": "code",
   "execution_count": null,
   "metadata": {},
   "outputs": [],
   "source": []
  }
 ],
 "metadata": {
  "kernelspec": {
   "display_name": "Python 3",
   "language": "python",
   "name": "python3"
  },
  "language_info": {
   "codemirror_mode": {
    "name": "ipython",
    "version": 3
   },
   "file_extension": ".py",
   "mimetype": "text/x-python",
   "name": "python",
   "nbconvert_exporter": "python",
   "pygments_lexer": "ipython3",
   "version": "3.7.7"
  },
  "toc": {
   "base_numbering": 1,
   "nav_menu": {},
   "number_sections": true,
   "sideBar": true,
   "skip_h1_title": false,
   "title_cell": "Table of Contents",
   "title_sidebar": "Contents",
   "toc_cell": false,
   "toc_position": {},
   "toc_section_display": true,
   "toc_window_display": false
  }
 },
 "nbformat": 4,
 "nbformat_minor": 4
}
